{
  "cells": [
    {
      "cell_type": "markdown",
      "metadata": {
        "id": "8sUrEKMkGmPF"
      },
      "source": [
        "# **Objectives**\n",
        "* **Hands-on**\n",
        " * **Classes/Objects**:\n",
        "    * [OOP Terminologies](#scrollTo=DxASzjEvGmPI)\n",
        "    * [User-defined class](#scrollTo=0j-EghdBGmPL)\n",
        " * [Modules & Imports](#scrollTo=Dvva2MBgG9zg)\n",
        " * [Packages & Libraries](#scrollTo=BbbPfDIrGmPW)\n",
        " * [File I/O](#scrollTo=ct928da_GmPX)\n",
        "\n"
      ]
    },
    {
      "cell_type": "markdown",
      "source": [
        "\n",
        "## **Using LLM AI as a coding tutor when learning this workshop on your own.**\n",
        "There are several ways that LLM can help improve your self-learning process. LLM AI can be used as a coding tutor to help:\n",
        "* Explain new concepts in other words. Ask it to give basic, intermediate, or advanced explanations of coding concepts depending on your familiarity and comfort level.\n",
        "* Guide you through the exercises and explain the logic and code. If you get stuck with the exercises, you can ask a LLM to give you a step-by-step guide to the exercise so you better understand the learning objectives. For best results, be very specific with the LLM AI so it has the necessary context to best help you.\n",
        "\n",
        "* Give you more exercises. If you aren't sure you understand a concept and want to test your knowledge, ask a LLM AI to give additional exercises to help test your abilities and understanding. They can be coding problems, multiple choice, fill in the blank, or whatever will work best for your learning style. Be creative and get the support you want.  \n",
        "\n",
        "The AI has infinite patience, so ask as many questions as you want!\n",
        "\n",
        "### **The Food Emojis**\n",
        "\n",
        "As you go through this workshop, you will notice **Food Emojis** embedded throughout. They accompany bolded terms that are the fundamental concepts that python programming is built upon. The key thing here is **if you see an emoji, consider asking a LLM AI about the bolded concept**. For fun, we have gamified this by thinking of the emojis as dishes you can collect on a world food tour.\n",
        "  - To collect all the dishes, you should follow the workshop section by section and add your found dish (new coding concept) to the end of the following prompt and take it to LLM AI:\n",
        "\n",
        " `You are going to take on the role of an excellent python coding tutor. I'm a beginner learning to program in python. In simple terms, please give me an overview and explanation of the following concept:  `\n",
        "\n",
        "  - You can add more surrounding components to the prompts to make it more clear. For example, maybe you know another language and want LLM AI to compare how the concept works in R or C++ to help you better understand.\n",
        "\n",
        "### **Disclaimer**\n",
        "- Outputs may be inaccurate, untruthful, and otherwise misleading.\n",
        "- It may produce biased content.\n",
        "- It will not cite sources.\n",
        "  \n",
        "Always use caution when interacting with LLM AI systems. Despite the large bounds in progress and capability, they are still in early versions and teams of people are working to fix short comings and mistakes each and every day. Despite how useful they can be as coding tutors, it is important to remember that their outputs should be met with a healthy amount of skepticism."
      ],
      "metadata": {
        "id": "oTjtCRhkNQi_"
      }
    },
    {
      "cell_type": "markdown",
      "metadata": {
        "id": "DxASzjEvGmPI"
      },
      "source": [
        "## **Classes and Objects**\n",
        "### **OOP Terminologies**\n",
        "Python supports object-oriented programming (OOP). Some OOP terminologies include;\n",
        "#### 🥝**Class**\n",
        "* Prototype for objects that defines a set of attributes that characterize any object of the class.\n",
        "* There are two types of classes. **System Defined** and **User Defined** classes\n",
        "* Example of a system defined class is the **'str'** class for string literals\n",
        "\n",
        "#### 🥥**Object**\n",
        "* Unique instance of a class\n",
        "* It comprises both data members and methods as defined by its class\n",
        "\n"
      ]
    },
    {
      "cell_type": "code",
      "execution_count": 1,
      "metadata": {
        "id": "-Vg4AKwDGmPJ"
      },
      "outputs": [],
      "source": [
        "var = 'This is a string object'"
      ]
    },
    {
      "cell_type": "markdown",
      "metadata": {
        "id": "44gRCbm6GmPK"
      },
      "source": [
        "* **'var'** is an object of String class\n",
        "\n",
        "#### 🍇**Instantiation**\n",
        "* The creation of an object (instance of a class)\n",
        "\n",
        "#### **🍈Attributes**\n",
        "* Data members and methods, accessed via dot notation\n",
        "\n",
        "#### **🍊Data member**\n",
        "* Holds data associated with a class and its objects\n",
        "* May be a class variable or instance variable\n",
        "\n",
        "#### 🍋**Class variable**\n",
        "* Shared with all instances of a class\n",
        "* Defined within a class but outside any of the class's methods\n",
        "\n",
        "#### 🍍**Instance variable**\n",
        "* Defined inside a method and belongs only to the current instance/object\n",
        "\n",
        "#### 🥭**Method**\n",
        "* A special kind of function that is defined in a class definition\n",
        "---\n"
      ]
    },
    {
      "cell_type": "code",
      "execution_count": 2,
      "metadata": {
        "id": "ZBzzuGskGmPL",
        "colab": {
          "base_uri": "https://localhost:8080/",
          "height": 35
        },
        "outputId": "18e726dd-15aa-4f3e-e9ab-77aa4a8b1575"
      },
      "outputs": [
        {
          "output_type": "execute_result",
          "data": {
            "text/plain": [
              "'THIS IS A STRING OBJECT'"
            ],
            "application/vnd.google.colaboratory.intrinsic+json": {
              "type": "string"
            }
          },
          "metadata": {},
          "execution_count": 2
        }
      ],
      "source": [
        "# A String Class Method\n",
        "var.upper()"
      ]
    },
    {
      "cell_type": "markdown",
      "metadata": {
        "id": "0j-EghdBGmPL"
      },
      "source": [
        "### **Defining a User-defined class**\n",
        "* To create a class, it begins with keyword **'class'** followed by the class name\n",
        "\n",
        "  **class ClassName:**\n",
        "\n",
        "  $\\;\\;\\;\\;\\;\\;$**class variables**\n",
        "\n",
        "  $\\;\\;\\;\\;\\;\\;$**def \\_\\_init\\_\\_(self,class_parameter[s]) :**\n",
        "\n",
        "  $\\;\\;\\;\\;\\;\\;\\;\\;\\;\\;\\;\\;$**self.instance_variables[s] = class_parameter[s]**\n",
        "\n",
        "  $\\;\\;\\;\\;\\;\\;\\;\\;\\;\\;\\;\\;$**\\_\\_init\\_\\_ method statements**\n",
        "\n",
        "   $\\;\\;\\;\\;\\;\\;$**def method_1(self,method_parameter[s]) :**\n",
        "\n",
        "  $\\;\\;\\;\\;\\;\\;\\;\\;\\;\\;\\;\\;$**method_1 statements**\n",
        "\n",
        "  $\\;\\;\\;\\;\\;\\;$**def method_2(self,method_parameter[s]) :**\n",
        "\n",
        "  $\\;\\;\\;\\;\\;\\;\\;\\;\\;\\;\\;\\;$**method_2 statements**\n",
        "\n",
        "\n",
        "  \n",
        "* By convention class names begin with an initial caps\n",
        "* Includes a special 🍎**intial method** `__init__( )`<br>\n",
        "  (**NB**: **'\\_\\_'** is double underscore)\n",
        "  Python calls this method when you create a new instance of this class\n",
        "* **`__init__( )`** can include optional parameters that might be required at initialization of the class\n",
        "* Class body has statements that define attributes (data and methods)\n",
        "* All other class methods are normal functions except the **first compulsory** argument to each method is **'self'**\n",
        "* See example below"
      ]
    },
    {
      "cell_type": "code",
      "execution_count": 4,
      "metadata": {
        "id": "khWdCt8uGmPM"
      },
      "outputs": [],
      "source": [
        "class Employee:\n",
        "    # A class variable\n",
        "    empCount = 0\n",
        "\n",
        "    # The initial method. Notice the compulsory self argument\n",
        "    def __init__(self, name, salary):\n",
        "        self.new_name = name  # First instance variable\n",
        "        self.new_salary = salary # Second instance variable\n",
        "        Employee.empCount += 1 # Notice how class variables are referenced\n",
        "\n",
        "    # First method. Notice the compulsory self argument\n",
        "    def displayCount(self):\n",
        "        print (\"This is Employee # \", Employee.empCount)\n",
        "\n",
        "    # Second method. Notice the compulsory self argument\n",
        "    def displayEmployee(self, increment):\n",
        "        print (\"Name : \", self.new_name, \", Salary: \", self.new_salary, \", Next year Salary: \",  self.new_salary+increment)"
      ]
    },
    {
      "cell_type": "markdown",
      "metadata": {
        "id": "GDwlljDpGmPN"
      },
      "source": [
        "**Creating an Object of class Employee**"
      ]
    },
    {
      "cell_type": "code",
      "execution_count": 5,
      "metadata": {
        "id": "tp70SZMyGmPN"
      },
      "outputs": [],
      "source": [
        "emp1 = Employee(\"Zara\", 2000)"
      ]
    },
    {
      "cell_type": "markdown",
      "metadata": {
        "id": "ZKwRJJV2GmPO"
      },
      "source": [
        "**Calling a method**"
      ]
    },
    {
      "cell_type": "code",
      "execution_count": 6,
      "metadata": {
        "id": "u77GsDNSGmPO",
        "colab": {
          "base_uri": "https://localhost:8080/"
        },
        "outputId": "7e3d2e99-4cb8-410d-e869-c22c82d8f77a"
      },
      "outputs": [
        {
          "output_type": "stream",
          "name": "stdout",
          "text": [
            "This is Employee #  1\n"
          ]
        }
      ],
      "source": [
        "emp1.displayCount()"
      ]
    },
    {
      "cell_type": "markdown",
      "metadata": {
        "id": "rCBFxfQFGmPP"
      },
      "source": [
        "**Creating another object**"
      ]
    },
    {
      "cell_type": "code",
      "execution_count": 7,
      "metadata": {
        "id": "KoDTipm1GmPP"
      },
      "outputs": [],
      "source": [
        "emp2 = Employee(\"John\", 5000)"
      ]
    },
    {
      "cell_type": "markdown",
      "metadata": {
        "id": "s4bqJfUcGmPP"
      },
      "source": [
        "**Calling another method**"
      ]
    },
    {
      "cell_type": "code",
      "execution_count": 8,
      "metadata": {
        "id": "DUsFcyHQGmPQ",
        "colab": {
          "base_uri": "https://localhost:8080/"
        },
        "outputId": "00da683e-d6a4-490e-e012-08fa679a20df"
      },
      "outputs": [
        {
          "output_type": "stream",
          "name": "stdout",
          "text": [
            "Name :  John , Salary:  5000 , Next year Salary:  5200\n"
          ]
        }
      ],
      "source": [
        "emp2.displayEmployee(200)"
      ]
    },
    {
      "cell_type": "markdown",
      "metadata": {
        "id": "C2TrN9DfGmPQ"
      },
      "source": [
        "**A class variable**"
      ]
    },
    {
      "cell_type": "code",
      "execution_count": 9,
      "metadata": {
        "id": "sCPzmFziGmPR",
        "colab": {
          "base_uri": "https://localhost:8080/"
        },
        "outputId": "2757431e-969c-40d0-e1f1-44e45111e5f1"
      },
      "outputs": [
        {
          "output_type": "execute_result",
          "data": {
            "text/plain": [
              "2"
            ]
          },
          "metadata": {},
          "execution_count": 9
        }
      ],
      "source": [
        "Employee.empCount"
      ]
    },
    {
      "cell_type": "markdown",
      "metadata": {
        "id": "22fJVl4FGmPR"
      },
      "source": [
        "**An instance variable**"
      ]
    },
    {
      "cell_type": "code",
      "execution_count": 10,
      "metadata": {
        "id": "YRmv1xoDGmPR",
        "colab": {
          "base_uri": "https://localhost:8080/",
          "height": 35
        },
        "outputId": "1d312f34-4144-4e58-dee9-cda15b9300c5"
      },
      "outputs": [
        {
          "output_type": "execute_result",
          "data": {
            "text/plain": [
              "'Zara'"
            ],
            "application/vnd.google.colaboratory.intrinsic+json": {
              "type": "string"
            }
          },
          "metadata": {},
          "execution_count": 10
        }
      ],
      "source": [
        "emp1.new_name"
      ]
    },
    {
      "cell_type": "code",
      "execution_count": 11,
      "metadata": {
        "id": "9YzKAZLIGmPR",
        "colab": {
          "base_uri": "https://localhost:8080/"
        },
        "outputId": "d927a39f-69c6-410d-aa77-ff16f02576eb"
      },
      "outputs": [
        {
          "output_type": "stream",
          "name": "stdout",
          "text": [
            "Total number of Employees:  2\n",
            "Name of second employee:  John\n"
          ]
        }
      ],
      "source": [
        "print(\"Total number of Employees: \", Employee.empCount)\n",
        "print(\"Name of second employee: \", emp2.new_name)"
      ]
    },
    {
      "cell_type": "markdown",
      "metadata": {
        "id": "Dvva2MBgG9zg"
      },
      "source": [
        "## **Modules and Imports**\n",
        "* A module is a file that contains definitions - including functions, variables and classes - that you can use once it is imported\n",
        "* A module can also include executable code\n",
        "* Two types of modules\n",
        " * **System-defined** - Built-in modules like **'random'** located in **'random.py'** file\n",
        " * **User-defined** - Put all the related codes and definitions in a single file and save with a **'.py'** extension"
      ]
    },
    {
      "cell_type": "markdown",
      "metadata": {
        "id": "g-S0pJujGmPS"
      },
      "source": [
        "### **Creating a 🍑User-defined Module**\n",
        "To create a module called **'support'**\n",
        "* Open an empty script\n",
        "* Write the code and definitions. Use example below\n",
        "  ```\n",
        "  pressure = 103.9\n",
        "  def addition(x , y):\n",
        "    return x + y\n",
        "  def subtraction(x , y):\n",
        "    return x - y\n",
        "  ```\n",
        "  \n",
        "* Save script as **'support.py'**\n",
        "\n"
      ]
    },
    {
      "cell_type": "code",
      "source": [],
      "metadata": {
        "id": "kmTyneIp9E-G"
      },
      "execution_count": 14,
      "outputs": []
    },
    {
      "cell_type": "code",
      "source": [],
      "metadata": {
        "id": "xBHUAVQ59FXm"
      },
      "execution_count": 14,
      "outputs": []
    },
    {
      "cell_type": "markdown",
      "metadata": {
        "id": "P_hn2DCfHDUX"
      },
      "source": [
        "### 🍒**Importing Modules**\n",
        "Use **`import`** statement to load a file into a program's memory\n",
        "\n",
        "#### **Generic or regular import**\n",
        "Import the whole module(s)\n",
        "\n",
        "*Syntax*:\n",
        "<br>\n",
        "**`import module_1 ,module_2 ,...module_N`**\n",
        "\n",
        "*Usage*:"
      ]
    },
    {
      "cell_type": "code",
      "execution_count": 15,
      "metadata": {
        "id": "EVlsyc3EGmPS",
        "colab": {
          "base_uri": "https://localhost:8080/"
        },
        "outputId": "7d9faa8a-cf35-442e-92b4-3466a31a309f"
      },
      "outputs": [
        {
          "output_type": "stream",
          "name": "stdout",
          "text": [
            "103.9\n",
            "5\n"
          ]
        }
      ],
      "source": [
        "import support, math, random\n",
        "\n",
        "print(support.pressure)\n",
        "v = support.addition(2,3)\n",
        "print(v)"
      ]
    },
    {
      "cell_type": "markdown",
      "metadata": {
        "id": "j8WvqeUfGmPS"
      },
      "source": [
        "#### **Generic import with alias**\n",
        "*Syntax*:\n",
        "<br>\n",
        "**`import module_1 as m_1, module_2 as m_2, ...module_N as m_N`**\n",
        "\n",
        "*Usage*:"
      ]
    },
    {
      "cell_type": "code",
      "execution_count": 16,
      "metadata": {
        "id": "yFzB-yB3GmPT",
        "colab": {
          "base_uri": "https://localhost:8080/"
        },
        "outputId": "37f5444a-7897-4109-9dba-e042008bb13c"
      },
      "outputs": [
        {
          "output_type": "stream",
          "name": "stdout",
          "text": [
            "5\n"
          ]
        }
      ],
      "source": [
        "import math as m, support as s\n",
        "v = s.addition(2,3)\n",
        "print(v)"
      ]
    },
    {
      "cell_type": "markdown",
      "metadata": {
        "id": "mwDan8MmGmPT"
      },
      "source": [
        "#### **Specific items import**\n",
        "Import only specific items from module\n",
        "\n",
        "*Syntax*:\n",
        "<br>\n",
        "**`from module_name import item_1, item_2, ...item_N`**\n",
        "\n",
        "*Usage*:"
      ]
    },
    {
      "cell_type": "code",
      "execution_count": 17,
      "metadata": {
        "id": "JkCVGKDPGmPT",
        "colab": {
          "base_uri": "https://localhost:8080/"
        },
        "outputId": "25fcf1f3-201b-4498-a956-58d362ab0bba"
      },
      "outputs": [
        {
          "output_type": "stream",
          "name": "stdout",
          "text": [
            "5\n"
          ]
        }
      ],
      "source": [
        "from support import addition\n",
        "v = addition(2,3)\n",
        "print(v)"
      ]
    },
    {
      "cell_type": "markdown",
      "metadata": {
        "id": "5h0a4OfEGmPT"
      },
      "source": [
        "#### **Universal import**\n",
        "Import all items in a module individually\n",
        "\n",
        "*Syntax*:\n",
        "<br>\n",
        "**`from module_name import *`**\n",
        "\n",
        "*Usage*:"
      ]
    },
    {
      "cell_type": "code",
      "execution_count": 18,
      "metadata": {
        "id": "gdGCevsjGmPT",
        "colab": {
          "base_uri": "https://localhost:8080/"
        },
        "outputId": "d68017ec-77b2-417d-cb40-33be17e7fba5"
      },
      "outputs": [
        {
          "output_type": "stream",
          "name": "stdout",
          "text": [
            "-1\n",
            "5\n"
          ]
        }
      ],
      "source": [
        "from support import *\n",
        "v = addition(2,3)\n",
        "u = subtraction(2,3)\n",
        "print(u)\n",
        "print(v)"
      ]
    },
    {
      "cell_type": "markdown",
      "metadata": {
        "id": "gfSYkperGmPT"
      },
      "source": [
        "### **More on Modules**\n",
        "* **`dir (module_name)`** returns a sorted list of strings with names of items in a module\n",
        "* **`help (module_name)`** find out more about a module's contents"
      ]
    },
    {
      "cell_type": "code",
      "execution_count": 19,
      "metadata": {
        "id": "_f2P3_i9GmPU"
      },
      "outputs": [],
      "source": [
        "import math\n",
        "content = dir(math)"
      ]
    },
    {
      "cell_type": "code",
      "execution_count": 20,
      "metadata": {
        "id": "XdnupQ4pGmPU",
        "scrolled": true,
        "colab": {
          "base_uri": "https://localhost:8080/"
        },
        "outputId": "8ed77994-21a2-4102-9c03-6898107463b8"
      },
      "outputs": [
        {
          "output_type": "stream",
          "name": "stdout",
          "text": [
            "['__doc__', '__loader__', '__name__', '__package__', '__spec__', 'acos', 'acosh', 'asin', 'asinh', 'atan', 'atan2', 'atanh', 'cbrt', 'ceil', 'comb', 'copysign', 'cos', 'cosh', 'degrees', 'dist', 'e', 'erf', 'erfc', 'exp', 'exp2', 'expm1', 'fabs', 'factorial', 'floor', 'fmod', 'frexp', 'fsum', 'gamma', 'gcd', 'hypot', 'inf', 'isclose', 'isfinite', 'isinf', 'isnan', 'isqrt', 'lcm', 'ldexp', 'lgamma', 'log', 'log10', 'log1p', 'log2', 'modf', 'nan', 'nextafter', 'perm', 'pi', 'pow', 'prod', 'radians', 'remainder', 'sin', 'sinh', 'sqrt', 'tan', 'tanh', 'tau', 'trunc', 'ulp']\n"
          ]
        }
      ],
      "source": [
        "print(content)"
      ]
    },
    {
      "cell_type": "code",
      "execution_count": 21,
      "metadata": {
        "id": "nix0K4cpGmPU",
        "colab": {
          "base_uri": "https://localhost:8080/"
        },
        "outputId": "20c86dfb-6de0-4517-d38f-c546a9b14096"
      },
      "outputs": [
        {
          "output_type": "stream",
          "name": "stdout",
          "text": [
            "Help on built-in module math:\n",
            "\n",
            "NAME\n",
            "    math\n",
            "\n",
            "DESCRIPTION\n",
            "    This module provides access to the mathematical functions\n",
            "    defined by the C standard.\n",
            "\n",
            "FUNCTIONS\n",
            "    acos(x, /)\n",
            "        Return the arc cosine (measured in radians) of x.\n",
            "        \n",
            "        The result is between 0 and pi.\n",
            "    \n",
            "    acosh(x, /)\n",
            "        Return the inverse hyperbolic cosine of x.\n",
            "    \n",
            "    asin(x, /)\n",
            "        Return the arc sine (measured in radians) of x.\n",
            "        \n",
            "        The result is between -pi/2 and pi/2.\n",
            "    \n",
            "    asinh(x, /)\n",
            "        Return the inverse hyperbolic sine of x.\n",
            "    \n",
            "    atan(x, /)\n",
            "        Return the arc tangent (measured in radians) of x.\n",
            "        \n",
            "        The result is between -pi/2 and pi/2.\n",
            "    \n",
            "    atan2(y, x, /)\n",
            "        Return the arc tangent (measured in radians) of y/x.\n",
            "        \n",
            "        Unlike atan(y/x), the signs of both x and y are considered.\n",
            "    \n",
            "    atanh(x, /)\n",
            "        Return the inverse hyperbolic tangent of x.\n",
            "    \n",
            "    cbrt(x, /)\n",
            "        Return the cube root of x.\n",
            "    \n",
            "    ceil(x, /)\n",
            "        Return the ceiling of x as an Integral.\n",
            "        \n",
            "        This is the smallest integer >= x.\n",
            "    \n",
            "    comb(n, k, /)\n",
            "        Number of ways to choose k items from n items without repetition and without order.\n",
            "        \n",
            "        Evaluates to n! / (k! * (n - k)!) when k <= n and evaluates\n",
            "        to zero when k > n.\n",
            "        \n",
            "        Also called the binomial coefficient because it is equivalent\n",
            "        to the coefficient of k-th term in polynomial expansion of the\n",
            "        expression (1 + x)**n.\n",
            "        \n",
            "        Raises TypeError if either of the arguments are not integers.\n",
            "        Raises ValueError if either of the arguments are negative.\n",
            "    \n",
            "    copysign(x, y, /)\n",
            "        Return a float with the magnitude (absolute value) of x but the sign of y.\n",
            "        \n",
            "        On platforms that support signed zeros, copysign(1.0, -0.0)\n",
            "        returns -1.0.\n",
            "    \n",
            "    cos(x, /)\n",
            "        Return the cosine of x (measured in radians).\n",
            "    \n",
            "    cosh(x, /)\n",
            "        Return the hyperbolic cosine of x.\n",
            "    \n",
            "    degrees(x, /)\n",
            "        Convert angle x from radians to degrees.\n",
            "    \n",
            "    dist(p, q, /)\n",
            "        Return the Euclidean distance between two points p and q.\n",
            "        \n",
            "        The points should be specified as sequences (or iterables) of\n",
            "        coordinates.  Both inputs must have the same dimension.\n",
            "        \n",
            "        Roughly equivalent to:\n",
            "            sqrt(sum((px - qx) ** 2.0 for px, qx in zip(p, q)))\n",
            "    \n",
            "    erf(x, /)\n",
            "        Error function at x.\n",
            "    \n",
            "    erfc(x, /)\n",
            "        Complementary error function at x.\n",
            "    \n",
            "    exp(x, /)\n",
            "        Return e raised to the power of x.\n",
            "    \n",
            "    exp2(x, /)\n",
            "        Return 2 raised to the power of x.\n",
            "    \n",
            "    expm1(x, /)\n",
            "        Return exp(x)-1.\n",
            "        \n",
            "        This function avoids the loss of precision involved in the direct evaluation of exp(x)-1 for small x.\n",
            "    \n",
            "    fabs(x, /)\n",
            "        Return the absolute value of the float x.\n",
            "    \n",
            "    factorial(n, /)\n",
            "        Find n!.\n",
            "        \n",
            "        Raise a ValueError if x is negative or non-integral.\n",
            "    \n",
            "    floor(x, /)\n",
            "        Return the floor of x as an Integral.\n",
            "        \n",
            "        This is the largest integer <= x.\n",
            "    \n",
            "    fmod(x, y, /)\n",
            "        Return fmod(x, y), according to platform C.\n",
            "        \n",
            "        x % y may differ.\n",
            "    \n",
            "    frexp(x, /)\n",
            "        Return the mantissa and exponent of x, as pair (m, e).\n",
            "        \n",
            "        m is a float and e is an int, such that x = m * 2.**e.\n",
            "        If x is 0, m and e are both 0.  Else 0.5 <= abs(m) < 1.0.\n",
            "    \n",
            "    fsum(seq, /)\n",
            "        Return an accurate floating point sum of values in the iterable seq.\n",
            "        \n",
            "        Assumes IEEE-754 floating point arithmetic.\n",
            "    \n",
            "    gamma(x, /)\n",
            "        Gamma function at x.\n",
            "    \n",
            "    gcd(*integers)\n",
            "        Greatest Common Divisor.\n",
            "    \n",
            "    hypot(...)\n",
            "        hypot(*coordinates) -> value\n",
            "        \n",
            "        Multidimensional Euclidean distance from the origin to a point.\n",
            "        \n",
            "        Roughly equivalent to:\n",
            "            sqrt(sum(x**2 for x in coordinates))\n",
            "        \n",
            "        For a two dimensional point (x, y), gives the hypotenuse\n",
            "        using the Pythagorean theorem:  sqrt(x*x + y*y).\n",
            "        \n",
            "        For example, the hypotenuse of a 3/4/5 right triangle is:\n",
            "        \n",
            "            >>> hypot(3.0, 4.0)\n",
            "            5.0\n",
            "    \n",
            "    isclose(a, b, *, rel_tol=1e-09, abs_tol=0.0)\n",
            "        Determine whether two floating point numbers are close in value.\n",
            "        \n",
            "          rel_tol\n",
            "            maximum difference for being considered \"close\", relative to the\n",
            "            magnitude of the input values\n",
            "          abs_tol\n",
            "            maximum difference for being considered \"close\", regardless of the\n",
            "            magnitude of the input values\n",
            "        \n",
            "        Return True if a is close in value to b, and False otherwise.\n",
            "        \n",
            "        For the values to be considered close, the difference between them\n",
            "        must be smaller than at least one of the tolerances.\n",
            "        \n",
            "        -inf, inf and NaN behave similarly to the IEEE 754 Standard.  That\n",
            "        is, NaN is not close to anything, even itself.  inf and -inf are\n",
            "        only close to themselves.\n",
            "    \n",
            "    isfinite(x, /)\n",
            "        Return True if x is neither an infinity nor a NaN, and False otherwise.\n",
            "    \n",
            "    isinf(x, /)\n",
            "        Return True if x is a positive or negative infinity, and False otherwise.\n",
            "    \n",
            "    isnan(x, /)\n",
            "        Return True if x is a NaN (not a number), and False otherwise.\n",
            "    \n",
            "    isqrt(n, /)\n",
            "        Return the integer part of the square root of the input.\n",
            "    \n",
            "    lcm(*integers)\n",
            "        Least Common Multiple.\n",
            "    \n",
            "    ldexp(x, i, /)\n",
            "        Return x * (2**i).\n",
            "        \n",
            "        This is essentially the inverse of frexp().\n",
            "    \n",
            "    lgamma(x, /)\n",
            "        Natural logarithm of absolute value of Gamma function at x.\n",
            "    \n",
            "    log(...)\n",
            "        log(x, [base=math.e])\n",
            "        Return the logarithm of x to the given base.\n",
            "        \n",
            "        If the base not specified, returns the natural logarithm (base e) of x.\n",
            "    \n",
            "    log10(x, /)\n",
            "        Return the base 10 logarithm of x.\n",
            "    \n",
            "    log1p(x, /)\n",
            "        Return the natural logarithm of 1+x (base e).\n",
            "        \n",
            "        The result is computed in a way which is accurate for x near zero.\n",
            "    \n",
            "    log2(x, /)\n",
            "        Return the base 2 logarithm of x.\n",
            "    \n",
            "    modf(x, /)\n",
            "        Return the fractional and integer parts of x.\n",
            "        \n",
            "        Both results carry the sign of x and are floats.\n",
            "    \n",
            "    nextafter(x, y, /)\n",
            "        Return the next floating-point value after x towards y.\n",
            "    \n",
            "    perm(n, k=None, /)\n",
            "        Number of ways to choose k items from n items without repetition and with order.\n",
            "        \n",
            "        Evaluates to n! / (n - k)! when k <= n and evaluates\n",
            "        to zero when k > n.\n",
            "        \n",
            "        If k is not specified or is None, then k defaults to n\n",
            "        and the function returns n!.\n",
            "        \n",
            "        Raises TypeError if either of the arguments are not integers.\n",
            "        Raises ValueError if either of the arguments are negative.\n",
            "    \n",
            "    pow(x, y, /)\n",
            "        Return x**y (x to the power of y).\n",
            "    \n",
            "    prod(iterable, /, *, start=1)\n",
            "        Calculate the product of all the elements in the input iterable.\n",
            "        \n",
            "        The default start value for the product is 1.\n",
            "        \n",
            "        When the iterable is empty, return the start value.  This function is\n",
            "        intended specifically for use with numeric values and may reject\n",
            "        non-numeric types.\n",
            "    \n",
            "    radians(x, /)\n",
            "        Convert angle x from degrees to radians.\n",
            "    \n",
            "    remainder(x, y, /)\n",
            "        Difference between x and the closest integer multiple of y.\n",
            "        \n",
            "        Return x - n*y where n*y is the closest integer multiple of y.\n",
            "        In the case where x is exactly halfway between two multiples of\n",
            "        y, the nearest even value of n is used. The result is always exact.\n",
            "    \n",
            "    sin(x, /)\n",
            "        Return the sine of x (measured in radians).\n",
            "    \n",
            "    sinh(x, /)\n",
            "        Return the hyperbolic sine of x.\n",
            "    \n",
            "    sqrt(x, /)\n",
            "        Return the square root of x.\n",
            "    \n",
            "    tan(x, /)\n",
            "        Return the tangent of x (measured in radians).\n",
            "    \n",
            "    tanh(x, /)\n",
            "        Return the hyperbolic tangent of x.\n",
            "    \n",
            "    trunc(x, /)\n",
            "        Truncates the Real x to the nearest Integral toward 0.\n",
            "        \n",
            "        Uses the __trunc__ magic method.\n",
            "    \n",
            "    ulp(x, /)\n",
            "        Return the value of the least significant bit of the float x.\n",
            "\n",
            "DATA\n",
            "    e = 2.718281828459045\n",
            "    inf = inf\n",
            "    nan = nan\n",
            "    pi = 3.141592653589793\n",
            "    tau = 6.283185307179586\n",
            "\n",
            "FILE\n",
            "    (built-in)\n",
            "\n",
            "\n"
          ]
        }
      ],
      "source": [
        "help(math)"
      ]
    },
    {
      "cell_type": "markdown",
      "metadata": {
        "id": "0lGVmnsDGmPU"
      },
      "source": [
        "## **Exercise 1**\n",
        "### **Creating a Module with a Function and Class definitions**\n",
        "1. Create a module with the following entities\n",
        "   * A function called **`demographics`** to ask a user for their first name, last name and year of birth and returns these values in that order.<br>\n",
        "   * A function called **`uc_6_2`** with two string inputs (two names of a person with the first name as first input). This function returns the UC 6+2\n",
        "   * A class called **`Student`** with the following attributes\n",
        "     * Takes three string input(First name, last name, and year of birth in that order) to create an object of this class\n",
        "     * A **`student_count`** CLASS VARIABLE to track the count of every student object created so to use them in creating a student number for each student\n",
        "     * A method called **`student_number`** to return the student number. A student number is the **`student's year of birth + student's count`**\n",
        "     * A method called **`student_id`** calls the **`uc_6_2`** function to return the student ID\n",
        "   * Save the module as **`uc_student.py`**\n",
        "<br><br>  \n",
        "2. Imports the uc_student.py module into your session\n",
        "   * Create 3 student objects using the following steps\n",
        "     * For each student call the **`demographics( )`** function as save the output in a variable\n",
        "     * Use the information provided to create a student object\n",
        "   * Print the student number and student id of each student object\n",
        "   * Print the total number of students"
      ]
    },
    {
      "cell_type": "markdown",
      "metadata": {
        "id": "JAbnuc33GmPU"
      },
      "source": [
        "### **Solving Part 2 of Exercise**\n",
        "**Import the `uc_student` module into your session with an alias**"
      ]
    },
    {
      "cell_type": "code",
      "execution_count": 22,
      "metadata": {
        "id": "f7MxXBn-GmPV"
      },
      "outputs": [],
      "source": [
        "import uc_student as ucs\n"
      ]
    },
    {
      "cell_type": "markdown",
      "metadata": {
        "id": "71nh0Q0iGmPV"
      },
      "source": [
        "**Call the `demographics()` function to take inputs for first student and store in a variable**"
      ]
    },
    {
      "cell_type": "code",
      "execution_count": 23,
      "metadata": {
        "id": "GtKDhvgOGmPV",
        "colab": {
          "base_uri": "https://localhost:8080/"
        },
        "outputId": "1981fde8-fb52-4bef-e783-d29de9bb4ff1"
      },
      "outputs": [
        {
          "name": "stdout",
          "output_type": "stream",
          "text": [
            "Enter a first name: Ellen\n",
            "Enter a last name: Baker\n",
            "Enter a year of birth: 1990\n"
          ]
        }
      ],
      "source": [
        "demo = ucs.demographics()"
      ]
    },
    {
      "cell_type": "code",
      "source": [
        "demo[2]"
      ],
      "metadata": {
        "colab": {
          "base_uri": "https://localhost:8080/",
          "height": 35
        },
        "id": "2eZQex3bK46U",
        "outputId": "06eb2504-72a9-4268-e0bb-ee55344267b6"
      },
      "execution_count": 27,
      "outputs": [
        {
          "output_type": "execute_result",
          "data": {
            "text/plain": [
              "'1990'"
            ],
            "application/vnd.google.colaboratory.intrinsic+json": {
              "type": "string"
            }
          },
          "metadata": {},
          "execution_count": 27
        }
      ]
    },
    {
      "cell_type": "markdown",
      "metadata": {
        "id": "WXnaVrS1GmPV"
      },
      "source": [
        "**Call the `Student` class create first student object using the list saved in the command above and store in a variable**"
      ]
    },
    {
      "cell_type": "code",
      "execution_count": 28,
      "metadata": {
        "id": "qmoRFZHkGmPV"
      },
      "outputs": [],
      "source": [
        "stu1 = ucs.Student(demo[0], demo[1], demo[2])"
      ]
    },
    {
      "cell_type": "markdown",
      "metadata": {
        "id": "04yyic58GmPV"
      },
      "source": [
        "**Call the `demographics()` function to take inputs for second student and\n",
        "store in a variable**"
      ]
    },
    {
      "cell_type": "code",
      "execution_count": 29,
      "metadata": {
        "id": "Qz-MDVbNGmPV",
        "colab": {
          "base_uri": "https://localhost:8080/"
        },
        "outputId": "c6e3ddd8-3811-4d37-cb96-96fd86d23f08"
      },
      "outputs": [
        {
          "name": "stdout",
          "output_type": "stream",
          "text": [
            "Enter a first name: Betty\n",
            "Enter a last name: Boop\n",
            "Enter a year of birth: 1920\n"
          ]
        }
      ],
      "source": [
        "first, last, year_of_birth = ucs.demographics()"
      ]
    },
    {
      "cell_type": "markdown",
      "metadata": {
        "id": "Hkl5e2LJGmPV"
      },
      "source": [
        "Call the `Student` class create second student object using the list saved in the command above and store in a variable**"
      ]
    },
    {
      "cell_type": "code",
      "source": [
        "year_of_birth\n"
      ],
      "metadata": {
        "colab": {
          "base_uri": "https://localhost:8080/",
          "height": 35
        },
        "id": "qff4XcAlMInD",
        "outputId": "c80dd05f-eec7-43ee-dcef-4b7777cb3818"
      },
      "execution_count": 32,
      "outputs": [
        {
          "output_type": "execute_result",
          "data": {
            "text/plain": [
              "'1920'"
            ],
            "application/vnd.google.colaboratory.intrinsic+json": {
              "type": "string"
            }
          },
          "metadata": {},
          "execution_count": 32
        }
      ]
    },
    {
      "cell_type": "code",
      "execution_count": 33,
      "metadata": {
        "id": "AeTfXM34GmPW"
      },
      "outputs": [],
      "source": [
        "stu2 = ucs.Student(first, last, year_of_birth)"
      ]
    },
    {
      "cell_type": "markdown",
      "metadata": {
        "id": "QbkHTtcBGmPW"
      },
      "source": [
        "**Call the `demographics()` function to take inputs for third student and store in a variable**"
      ]
    },
    {
      "cell_type": "code",
      "execution_count": 34,
      "metadata": {
        "id": "fZ6BXpDWGmPW",
        "colab": {
          "base_uri": "https://localhost:8080/"
        },
        "outputId": "cea6b3e4-77d6-4d5f-c0d3-3e4e5b345272"
      },
      "outputs": [
        {
          "output_type": "stream",
          "name": "stdout",
          "text": [
            "Number of first student:  19901 ID of first student  bakereln\n"
          ]
        }
      ],
      "source": [
        "print('Number of first student: ', stu1.student_number(), 'ID of first student ', stu1.student_id())"
      ]
    },
    {
      "cell_type": "markdown",
      "metadata": {
        "id": "xmqpTYu7GmPW"
      },
      "source": [
        "**Call the `Student` class create third student object using the list saved in the command above and store in a variable**"
      ]
    },
    {
      "cell_type": "code",
      "execution_count": 37,
      "metadata": {
        "id": "s3_kH9rjGmPW"
      },
      "outputs": [],
      "source": [
        "stu3 = ucs.Student('Blue', 'Bird', '2025')"
      ]
    },
    {
      "cell_type": "markdown",
      "metadata": {
        "id": "Ldy77wUoGmPW"
      },
      "source": [
        "**Print the student number and student id of each student object**\n",
        "\n",
        "**Hint:** Replace the **?** in below command with appropriate code.\n",
        "<br>\n",
        "Do this for all three student objects in the cell below\n",
        "<br>\n",
        "**`print ( 'Number of First Student : ', ? , ' ; ID of First Student : ', ? )`**"
      ]
    },
    {
      "cell_type": "code",
      "execution_count": 39,
      "metadata": {
        "id": "vcg5QOH6GmPW",
        "colab": {
          "base_uri": "https://localhost:8080/"
        },
        "outputId": "37bb8cee-5b76-43b7-a4c3-46ecda290a64"
      },
      "outputs": [
        {
          "output_type": "stream",
          "name": "stdout",
          "text": [
            "Number of first student:  19901 ; ID of First Student :  bakereln\n",
            "Number of second student:  19202 ; ID of second Student :  boopbety\n",
            "Number of third student:  20253 ; ID of third Student :  birdblue\n"
          ]
        }
      ],
      "source": [
        "print('Number of first student: ', stu1.student_number(), '; ID of First Student : ',  stu1.student_id(),)\n",
        "print('Number of second student: ', stu2.student_number(), '; ID of second Student : ',  stu2.student_id(),)\n",
        "print('Number of third student: ', stu3.student_number(), '; ID of third Student : ',  stu3.student_id(),)\n"
      ]
    },
    {
      "cell_type": "code",
      "source": [
        "#RUN THIS CELL, IF YOU'RE ON \"COLAB\"\n",
        "\n",
        "#Cloning a repository from GitHub\n",
        "!git clone https://github.com/The-CEAS-Library/MyPackage\n",
        "\n",
        "#Downloading the files to the working directory\n",
        "!wget https://raw.githubusercontent.com/The-CEAS-Library/Foundations-of-Python-3/master/capitals.csv\n",
        "!wget https://raw.githubusercontent.com/The-CEAS-Library/Foundations-of-Python-3/master/example.txt\n",
        "!wget https://raw.githubusercontent.com/The-CEAS-Library/Foundations-of-Python-3/master/example2.txt\n",
        "!wget https://raw.githubusercontent.com/The-CEAS-Library/Foundations-of-Python-3/master/example3.txt\n",
        "!wget https://raw.githubusercontent.com/The-CEAS-Library/Foundations-of-Python-3/master/uc_student.py"
      ],
      "metadata": {
        "id": "5riERgsBOboS",
        "colab": {
          "base_uri": "https://localhost:8080/"
        },
        "outputId": "de320804-5107-4bc1-b11f-fa2225ddbd57"
      },
      "execution_count": 40,
      "outputs": [
        {
          "output_type": "stream",
          "name": "stdout",
          "text": [
            "Cloning into 'MyPackage'...\n",
            "remote: Enumerating objects: 35, done.\u001b[K\n",
            "remote: Counting objects: 100% (35/35), done.\u001b[K\n",
            "remote: Compressing objects: 100% (21/21), done.\u001b[K\n",
            "remote: Total 35 (delta 8), reused 35 (delta 8), pack-reused 0 (from 0)\u001b[K\n",
            "Receiving objects: 100% (35/35), 73.46 KiB | 1.25 MiB/s, done.\n",
            "Resolving deltas: 100% (8/8), done.\n",
            "--2025-07-09 22:11:07--  https://raw.githubusercontent.com/The-CEAS-Library/Foundations-of-Python-3/master/capitals.csv\n",
            "Resolving raw.githubusercontent.com (raw.githubusercontent.com)... 185.199.108.133, 185.199.109.133, 185.199.110.133, ...\n",
            "Connecting to raw.githubusercontent.com (raw.githubusercontent.com)|185.199.108.133|:443... connected.\n",
            "HTTP request sent, awaiting response... 200 OK\n",
            "Length: 7870 (7.7K) [text/plain]\n",
            "Saving to: ‘capitals.csv’\n",
            "\n",
            "capitals.csv        100%[===================>]   7.69K  --.-KB/s    in 0s      \n",
            "\n",
            "2025-07-09 22:11:07 (62.5 MB/s) - ‘capitals.csv’ saved [7870/7870]\n",
            "\n",
            "--2025-07-09 22:11:07--  https://raw.githubusercontent.com/The-CEAS-Library/Foundations-of-Python-3/master/example.txt\n",
            "Resolving raw.githubusercontent.com (raw.githubusercontent.com)... 185.199.109.133, 185.199.111.133, 185.199.110.133, ...\n",
            "Connecting to raw.githubusercontent.com (raw.githubusercontent.com)|185.199.109.133|:443... connected.\n",
            "HTTP request sent, awaiting response... 200 OK\n",
            "Length: 79 [text/plain]\n",
            "Saving to: ‘example.txt’\n",
            "\n",
            "example.txt         100%[===================>]      79  --.-KB/s    in 0s      \n",
            "\n",
            "2025-07-09 22:11:08 (3.16 MB/s) - ‘example.txt’ saved [79/79]\n",
            "\n",
            "--2025-07-09 22:11:08--  https://raw.githubusercontent.com/The-CEAS-Library/Foundations-of-Python-3/master/example2.txt\n",
            "Resolving raw.githubusercontent.com (raw.githubusercontent.com)... 185.199.110.133, 185.199.109.133, 185.199.111.133, ...\n",
            "Connecting to raw.githubusercontent.com (raw.githubusercontent.com)|185.199.110.133|:443... connected.\n",
            "HTTP request sent, awaiting response... 200 OK\n",
            "Length: 23 [text/plain]\n",
            "Saving to: ‘example2.txt’\n",
            "\n",
            "example2.txt        100%[===================>]      23  --.-KB/s    in 0s      \n",
            "\n",
            "2025-07-09 22:11:08 (1.10 MB/s) - ‘example2.txt’ saved [23/23]\n",
            "\n",
            "--2025-07-09 22:11:08--  https://raw.githubusercontent.com/The-CEAS-Library/Foundations-of-Python-3/master/example3.txt\n",
            "Resolving raw.githubusercontent.com (raw.githubusercontent.com)... 185.199.108.133, 185.199.109.133, 185.199.110.133, ...\n",
            "Connecting to raw.githubusercontent.com (raw.githubusercontent.com)|185.199.108.133|:443... connected.\n",
            "HTTP request sent, awaiting response... 200 OK\n",
            "Length: 79 [text/plain]\n",
            "Saving to: ‘example3.txt’\n",
            "\n",
            "example3.txt        100%[===================>]      79  --.-KB/s    in 0s      \n",
            "\n",
            "2025-07-09 22:11:08 (3.13 MB/s) - ‘example3.txt’ saved [79/79]\n",
            "\n",
            "--2025-07-09 22:11:08--  https://raw.githubusercontent.com/The-CEAS-Library/Foundations-of-Python-3/master/uc_student.py\n",
            "Resolving raw.githubusercontent.com (raw.githubusercontent.com)... 185.199.108.133, 185.199.109.133, 185.199.110.133, ...\n",
            "Connecting to raw.githubusercontent.com (raw.githubusercontent.com)|185.199.108.133|:443... connected.\n",
            "HTTP request sent, awaiting response... 200 OK\n",
            "Length: 2702 (2.6K) [text/plain]\n",
            "Saving to: ‘uc_student.py.1’\n",
            "\n",
            "uc_student.py.1     100%[===================>]   2.64K  --.-KB/s    in 0s      \n",
            "\n",
            "2025-07-09 22:11:08 (31.0 MB/s) - ‘uc_student.py.1’ saved [2702/2702]\n",
            "\n"
          ]
        }
      ]
    },
    {
      "cell_type": "markdown",
      "metadata": {
        "id": "BbbPfDIrGmPW"
      },
      "source": [
        "## 🍓**Packages**\n",
        "* A hierarchical file directory structure containing modules and subfolders and sub-subfolders as subpackages or sub-subpackages\n",
        "* It helps organize projects files in a single Python application environment\n",
        "* Each folder has a file called **`__init__.py`**\n",
        "* You can create your own Package\n",
        "* **`__init__.py`** file contains imports statements for modules in the folder and other code to be executed\n",
        "* The Package or folder can be imported using the folder name. Same import rules discussed earlier apply\n",
        "* When a Package is imported, it is initialized by running the **`__init__.py`** file\n",
        "* **System-defined** Packages - Already Built-in modules. An example is the **'email'** package for managing email messages\n",
        "* **User-defined** Packages - You can create your own Package. See example"
      ]
    },
    {
      "cell_type": "code",
      "execution_count": 41,
      "metadata": {
        "id": "k19lg7AhGmPX"
      },
      "outputs": [],
      "source": [
        "import MyPackage as m"
      ]
    },
    {
      "cell_type": "code",
      "execution_count": 42,
      "metadata": {
        "id": "tZcZEq-KGmPX",
        "colab": {
          "base_uri": "https://localhost:8080/"
        },
        "outputId": "fce03377-a539-4408-8edb-248667e4ae86"
      },
      "outputs": [
        {
          "name": "stdout",
          "output_type": "stream",
          "text": [
            "What is your First Name: Hello\n",
            "What is your Last Name: Ellen\n",
            "What is your Year of Birth: 1900\n"
          ]
        },
        {
          "output_type": "execute_result",
          "data": {
            "text/plain": [
              "['Hello', 'Ellen', '1900']"
            ]
          },
          "metadata": {},
          "execution_count": 42
        }
      ],
      "source": [
        "m.uc_student.demographics()"
      ]
    },
    {
      "cell_type": "code",
      "execution_count": 43,
      "metadata": {
        "id": "zgmO6IGRGmPX",
        "colab": {
          "base_uri": "https://localhost:8080/",
          "height": 35
        },
        "outputId": "8f8765cc-cf76-4090-d860-8891e65d6555"
      },
      "outputs": [
        {
          "output_type": "execute_result",
          "data": {
            "text/plain": [
              "'smithjon'"
            ],
            "application/vnd.google.colaboratory.intrinsic+json": {
              "type": "string"
            }
          },
          "metadata": {},
          "execution_count": 43
        }
      ],
      "source": [
        "m.uc_6_2('John','Smith')"
      ]
    },
    {
      "cell_type": "markdown",
      "metadata": {
        "id": "RkdpaHjlHVKD"
      },
      "source": [
        "## 🍊:**Libraries**\n",
        "* A Library is a collection of modules and packages that can be used by other python programs\n",
        "* The python community use the words **package** and **library** interchangeably\n"
      ]
    },
    {
      "cell_type": "markdown",
      "metadata": {
        "id": "Ar9uXcu-HgAo"
      },
      "source": [
        "\n",
        "### **Python Standard Library**\n",
        "* Python has a Standard Library with **System-defined** modules and packages\n",
        "* The Python Standard Library is downloaded on local drive when Python is installed\n",
        "* For More info at https://docs.python.org/3/library/\n"
      ]
    },
    {
      "cell_type": "markdown",
      "metadata": {
        "id": "RJwSFAg3HbhY"
      },
      "source": [
        "### **Additional/External Libraries**\n",
        "* Many other modules and packages created by the Python community and third-party teams are maintained in libraries outside the Standard Library.\n",
        "* The Python Package Index (PyPI) serves as the official third-party software repository for Python. It hosts numerous definitions contributed by the Python community and third-party teams.\n",
        "* For more information about PyPI, visit https://pypi.org/.\n",
        "* In addition to PyPI, there are other external libraries available.\n",
        "* You may use a package management system like **'pip'** to install a Package from PyPI and other sources.\n",
        "* Popular packages that are not on the Standard Library include **numpy** for multi-dimensional arrays, **matplotlib** for plotting and graphs and **pandas** for data manipulation and analysis. Thes are available on PyPI."
      ]
    },
    {
      "cell_type": "markdown",
      "metadata": {
        "id": "cBY3ehlVHkLA"
      },
      "source": [
        "### **Installing external Packages via command line using 'pip'**\n",
        "\n",
        " Syntax for installing from PyPI:\n",
        "\n",
        " **`pip install package-name`**\n",
        "\n",
        " **Usage**:\n",
        "\n",
        " **pip install numpy**\n",
        "* More info on installing packages on PyPI and other sources visit using **'pip'** at\n",
        " * https://packaging.python.org/tutorials/installing-packages/\n",
        " * https://pip.pypa.io/en/latest/reference/pip_install/"
      ]
    },
    {
      "cell_type": "markdown",
      "metadata": {
        "id": "ct928da_GmPX"
      },
      "source": [
        "## 🥑**File I/O**\n",
        "* Python's File I/O (Input/Output) facilitates seamless interaction with files, enabling reading, writing, and manipulation through built-in functions and methods.\n",
        "* To read or write to a file you need to create a file object for the file\n",
        "* **open()** is a built-in system function used to create file objects\n",
        "  \n",
        "***Syntax***:<br>\n",
        "**`file_object = open(file_path_name, mode)`**\n",
        "  \n",
        "**`file_path_name`** − String value containing file name or file system path.<br>\n",
        "$\\;\\;\\;\\;\\;\\;\\;\\;\\;\\;\\;\\;\\;\\;\\;\\;\\;\\;\\;\\;\\;\\;\\;$NB: Depending on the access mode, a new file is created if file does not exist.<br>\n",
        "**`mode`** − Optional String value representing the access mode while opening a file (read, write, append, etc).<br>\n",
        "$\\;\\;\\;\\;\\;\\;\\;\\;\\;\\;\\;\\;\\;\\;\\;\\;\\;\\;\\;\\;\\;$Default value is **'r'** for read.<br>\n",
        "$\\;\\;\\;\\;\\;\\;\\;\\;\\;\\;\\;\\;\\;\\;\\;\\;\\;\\;\\;\\;\\;$A new file is created if file does not exist only for write and append modes.<br>\n",
        "\n",
        "*Usage*:"
      ]
    },
    {
      "cell_type": "code",
      "execution_count": 56,
      "metadata": {
        "id": "MDvSxsXxGmPX"
      },
      "outputs": [],
      "source": [
        "my_file_1 = open(\"example.txt\", \"r\")"
      ]
    },
    {
      "cell_type": "code",
      "execution_count": 57,
      "metadata": {
        "id": "394vUS3TGmPY"
      },
      "outputs": [],
      "source": [
        "my_file_2 = open(\"example2.txt\", \"a+\")"
      ]
    },
    {
      "cell_type": "markdown",
      "metadata": {
        "id": "3uR-WQkeGmPY"
      },
      "source": [
        "### **File Object Data Attributes**\n",
        "**file_object.closed** - Returns 'True' if the file is closed. Otherwise 'False'<br/>**file_object.mode** - Returns access mode with which the file was opened<br/>**file_object.name** - Returns name of the file<br/>  \n",
        "*Usage*:"
      ]
    },
    {
      "cell_type": "code",
      "execution_count": 46,
      "metadata": {
        "id": "GXJU6gLmGmPY",
        "colab": {
          "base_uri": "https://localhost:8080/"
        },
        "outputId": "0e77a58c-61c7-405e-ac14-3e2fcb069a6f"
      },
      "outputs": [
        {
          "output_type": "stream",
          "name": "stdout",
          "text": [
            "Name of the file:  example.txt\n",
            "Name of the file:  False\n",
            "Name of the file:  r\n"
          ]
        }
      ],
      "source": [
        "print(\"Name of the file: \", my_file_1.name)\n",
        "print(\"Name of the file: \", my_file_1.closed)\n",
        "print(\"Name of the file: \", my_file_1.mode)"
      ]
    },
    {
      "cell_type": "markdown",
      "metadata": {
        "id": "S9w_wY52GmPY"
      },
      "source": [
        "### **File Object Methods**\n",
        "**read( )**<br>\n",
        "Reads a string from an open file. Python strings can have binary data.\n",
        "\n",
        "*Syntax*:<br>\n",
        "**var = file_object.read ( size )**<br>\n",
        "size is an optional parameter for the number of bytes to read\n",
        "\n",
        "*Usage*:"
      ]
    },
    {
      "cell_type": "code",
      "execution_count": 51,
      "metadata": {
        "id": "w-38nCWHGmPY",
        "colab": {
          "base_uri": "https://localhost:8080/"
        },
        "outputId": "5f7f95d5-dde0-4d7f-e406-a23370d8fd62"
      },
      "outputs": [
        {
          "output_type": "stream",
          "name": "stdout",
          "text": [
            "Read String is:  \n"
          ]
        }
      ],
      "source": [
        "text = my_file_1.read()\n",
        "print(\"Read String is: \", text)"
      ]
    },
    {
      "cell_type": "markdown",
      "metadata": {
        "id": "1CA3O6WDGmPY"
      },
      "source": [
        "**write( )**<br>\n",
        "Writes any string to an open file in write or append mode.\n",
        "\n",
        "*Syntax*:<br>\n",
        "**file_object.write (string)**<br>\n",
        "\n",
        "*Usage*:"
      ]
    },
    {
      "cell_type": "code",
      "execution_count": 52,
      "metadata": {
        "id": "nzy1_5mqGmPZ",
        "colab": {
          "base_uri": "https://localhost:8080/"
        },
        "outputId": "87d22b6e-62c3-4509-cedc-670ed8193f75"
      },
      "outputs": [
        {
          "output_type": "execute_result",
          "data": {
            "text/plain": [
              "12"
            ]
          },
          "metadata": {},
          "execution_count": 52
        }
      ],
      "source": [
        "my_file_2.write('\\nNew Entries')"
      ]
    },
    {
      "cell_type": "markdown",
      "metadata": {
        "id": "fFJPn3rWGmPZ"
      },
      "source": [
        "**close( )**<br>\n",
        "Closes the file object. No more writing or reading can be done after.\n",
        "\n",
        "*Syntax*:<br>\n",
        "**file_object.close( )**<br>\n",
        "\n",
        "*Usage*:"
      ]
    },
    {
      "cell_type": "code",
      "execution_count": 53,
      "metadata": {
        "id": "GCbQJRsnGmPZ"
      },
      "outputs": [],
      "source": [
        "my_file_1.close()\n",
        "my_file_2.close()"
      ]
    },
    {
      "cell_type": "markdown",
      "metadata": {
        "id": "phDVaMY2GmPa"
      },
      "source": [
        "#### **Better file reading  using 'with' block construct**\n",
        "Following syntax will automatically close files"
      ]
    },
    {
      "cell_type": "code",
      "execution_count": 54,
      "metadata": {
        "id": "FCUftZzIGmPa",
        "colab": {
          "base_uri": "https://localhost:8080/"
        },
        "outputId": "da53ee2b-b37b-4de7-d6b1-5e06d0a5dc9e"
      },
      "outputs": [
        {
          "output_type": "stream",
          "name": "stdout",
          "text": [
            "This is line 1.\n",
            "This is line 2.\n",
            "This is line 3.\n",
            "This is line 4.\n",
            "This is line 5.\n",
            "True\n"
          ]
        }
      ],
      "source": [
        "with open('example.txt', 'r') as my_file:\n",
        "    text = my_file.read()\n",
        "print(text)\n",
        "print(my_file.closed)"
      ]
    },
    {
      "cell_type": "markdown",
      "metadata": {
        "id": "UJM7tCwTGmPa"
      },
      "source": [
        "####  **Writing to a file**\n"
      ]
    },
    {
      "cell_type": "code",
      "execution_count": 58,
      "metadata": {
        "id": "L5XBqITBGmPb"
      },
      "outputs": [],
      "source": [
        "names = ['John Smith','Sarah Blunt ','Dag Heward-Mills','John Wick']\n",
        "with open('example2.txt', 'a+') as new_file:\n",
        "    for i in names:\n",
        "        new_file.write('\\n' + i)"
      ]
    },
    {
      "cell_type": "markdown",
      "metadata": {
        "id": "W46myBTJGmPZ"
      },
      "source": [
        "### **'os' module**\n",
        "The **'os'** system module provides functions that operate on files such as renaming and deleting files.\n",
        "#### **rename()**\n",
        "*Syntax*:<br>\n",
        "**import os**<br>\n",
        "**os.rename(current_file_name, new_file_name)**\n",
        "\n",
        "*Usage*:"
      ]
    },
    {
      "cell_type": "code",
      "execution_count": 55,
      "metadata": {
        "id": "6mzDnK7_GmPZ"
      },
      "outputs": [],
      "source": [
        "import os\n",
        "os.rename('example3.txt', 'example_3.txt')"
      ]
    },
    {
      "cell_type": "markdown",
      "metadata": {
        "id": "OapHJ5-5GmPZ"
      },
      "source": [
        "#### **remove()**\n",
        "*Syntax*:<br>\n",
        "**os.remove(file_name)**\n",
        "\n",
        "*Usage*:"
      ]
    },
    {
      "cell_type": "code",
      "execution_count": 59,
      "metadata": {
        "id": "9gdSIDTPGmPa"
      },
      "outputs": [],
      "source": [
        "os.remove('example_3.txt')"
      ]
    },
    {
      "cell_type": "markdown",
      "metadata": {
        "id": "gm2hyE6glPfr"
      },
      "source": [
        "## **Bonus Exercise**\n",
        "\n",
        "### **Car Class**\n",
        "\n",
        "Create a class with the following features:\n",
        "\n",
        "* Has properties for Make (Honda, Toyota, etc.), Model (Civic, Corolla, etc.), Year and Cost. These should all be assigned in the constructor. What kinds of datatypes would we need for each for of these?\n",
        "* Has a method called display() which takes no parameters and prints out the details of the car.\n",
        "    * ex) If we have an object with the properties of make=Honda, model=Civic, year=2019 and cost=20000, print out the following:\n",
        "    * \"This car is a 2019 Honda Civic which was purchased for $20000\n",
        "* Create a method called sell_price() that calculates how much the car would be sold for. The sell price is calculated by using the purchase cost and subtracting 500 for every year (2023 - year)\n",
        "    * ex) If we have an object with the properties of make=Honda, model=Civic, year=2019 and cost=20000, print out the following:\n",
        "    * 18000\n",
        "    * 20000 - ((2023 - 2019) * 500)"
      ]
    },
    {
      "cell_type": "code",
      "execution_count": 71,
      "metadata": {
        "id": "v6kigGP5lPfr"
      },
      "outputs": [],
      "source": [
        "class Vehicle:\n",
        "\n",
        "    def __init__(self, make, model, year, cost):\n",
        "        self.make = make\n",
        "        self.model = model\n",
        "        self.year = year\n",
        "        self.cost = cost\n",
        "        # assign make, model, year, and cost to the object.\n",
        "\n",
        "\n",
        "    def display(self):\n",
        "        # you'll want to use a print statement with a concatenated string to put the pieces together\n",
        "        details_of_car = \"This car is a \"+ str(self.year) + ' ' + self.make + ' '+ self.model +' which was purchased for $' + str(self.cost)\n",
        "        print(details_of_car)\n",
        "\n",
        "    def sell_price(self):\n",
        "        sp = self.cost - ((2025-self.year) * 500)\n",
        "        return sp\n",
        "        # calculate the sell price using the formula above and return that value\n",
        ""
      ]
    },
    {
      "cell_type": "code",
      "source": [
        "veh1 = Vehicle('Saab', '900', 1990, 30000)\n",
        "veh1.display()"
      ],
      "metadata": {
        "id": "c_nL_AsWakzs",
        "outputId": "72f86db5-d844-4477-feda-76d75a68c433",
        "colab": {
          "base_uri": "https://localhost:8080/"
        }
      },
      "execution_count": 72,
      "outputs": [
        {
          "output_type": "stream",
          "name": "stdout",
          "text": [
            "This car is a 1990 Saab 900 which was purchased for $30000\n"
          ]
        }
      ]
    },
    {
      "cell_type": "markdown",
      "metadata": {
        "id": "1Dxo8BNkGmPc"
      },
      "source": [
        "## Advanced and Future Topics\n",
        "* Error Handling and Exceptions\n",
        "* List Comprehensions\n",
        "* Regular Expressions\n",
        "* Database Access\n",
        "* Multithreading\n",
        "\n",
        "## Resources\n",
        "* CEAS Library Python resources - http://guides.libraries.uc.edu/python\n",
        "* Online links & tutorials\n",
        " * Python documentation - https://www.python.org/doc/\n",
        " * Python Programming wiki book - http://en.wikibooks.org/wiki/Python_Programming\n",
        " * Python tutorials - Udemy, Code academy, etc\n",
        " * Tutorials Point - https://www.tutorialspoint.com/python"
      ]
    },
    {
      "cell_type": "markdown",
      "metadata": {
        "id": "Zwb859xhGmPc"
      },
      "source": [
        "# $\\;\\;\\;\\;\\;\\;\\;\\;\\;\\;\\;\\;\\;\\;\\;\\;\\;\\;\\;\\;\\;\\;\\;\\;\\;\\;\\;\\;\\;\\;\\;\\;\\;$Questions ??\n",
        "\n",
        "$\\;\\;\\;\\;\\;\\;\\;\\;\\;\\;\\;\\;\\;\\;\\;\\;\\;\\;\\;\\;\\;\\;\\;\\;\\;\\;\\;\\;\\;\\;\\;\\;\\;\\;\\;\\;\\;\\;\\;\\;\\;\\;\\;\\;\\;\\;\\;\\;\\;\\;\\;\\;\\;\\;\\;\\;\\;\\;$**Thank you for attending the workshop !!**\n",
        "\n",
        "\n",
        "$\\;\\;\\;\\;\\;\\;\\;\\;\\;\\;\\;\\;\\;\\;\\;\\;\\;\\;\\;\\;\\;\\;\\;\\;\\;\\;\\;\\;\\;\\;\\;\\;\\;\\;\\;\\;\\;\\;\\;\\;\\;\\;\\;\\;\\;\\;$**Your kind suggestions/feedbacks are more than welcome**"
      ]
    }
  ],
  "metadata": {
    "colab": {
      "provenance": []
    },
    "kernelspec": {
      "display_name": "Python 3.10.6 64-bit",
      "language": "python",
      "name": "python3"
    },
    "language_info": {
      "codemirror_mode": {
        "name": "ipython",
        "version": 3
      },
      "file_extension": ".py",
      "mimetype": "text/x-python",
      "name": "python",
      "nbconvert_exporter": "python",
      "pygments_lexer": "ipython3",
      "version": "3.10.6"
    },
    "vscode": {
      "interpreter": {
        "hash": "aee8b7b246df8f9039afb4144a1f6fd8d2ca17a180786b69acc140d282b71a49"
      }
    }
  },
  "nbformat": 4,
  "nbformat_minor": 0
}