{
  "cells": [
    {
      "cell_type": "markdown",
      "metadata": {
        "id": "flzC3gXsJby4"
      },
      "source": [
        "# **Objectives**\n",
        "\n",
        " * [Introduction to Python](#scrollTo=2F2ZYWa-Jby8)\n",
        "\n",
        "* **Hands-on**\n",
        "\n",
        " * [Variables and Data Types](#scrollTo=kfTgkZkLJby_)\n",
        " * [Math Operators](#scrollTo=9hNbCDmNJbzH)\n",
        " * [Comments & Exercise 1](#scrollTo=od8pPtXZJbzL)\n",
        " * [Strings](#scrollTo=LqLwpXewJbzM)\n",
        " * [Lists & Tuples](#scrollTo=Y_Kqnin6JbzY)\n",
        " * [Sets & Dictionaries](#scrollTo=FStAtNEfJbzo)\n",
        " * [Exercise 2](#scrollTo=HY2I6gLsT7eh)\n",
        " * [Bonus Exercise](#scrollTo=UBX28RhQJbjx) <br>\n",
        "\n"
      ]
    },
    {
      "cell_type": "markdown",
      "source": [
        "\n",
        "## **Using LLM AI as a coding tutor when learning this workshop on your own.**\n",
        "There are several ways that LLM can help improve your self-learning process. LLM AI can be used as a coding tutor to help:\n",
        "* Explain new concepts in other words. Ask it to give basic, intermediate, or advanced explanations of coding concepts depending on your familiarity and comfort level.\n",
        "* Guide you through the exercises and explain the logic and code. If you get stuck with the exercises, you can ask a LLM to give you a step-by-step guide to the exercise so you better understand the learning objectives. For best results, be very specific with the LLM AI so it has the necessary context to best help you.\n",
        "\n",
        "* Give you more exercises. If you aren't sure you understand a concept and want to test your knowledge, ask a LLM AI to give additional exercises to help test your abilities and understanding. They can be coding problems, multiple choice, fill in the blank, or whatever will work best for your learning style. Be creative and get the support you want.  \n",
        "\n",
        "The AI has infinite patience, so ask as many questions as you want!\n",
        "\n",
        "### **The Food Emojis**\n",
        "\n",
        "As you go through this workshop, you will notice **Food Emojis** embedded throughout. They accompany bolded terms that are the fundamental concepts that python programming is built upon. The key thing here is **if you see an emoji, consider asking a LLM AI about the bolded concept**. For fun, we have gamified this by thinking of the emojis as dishes you can collect on a world food tour.\n",
        "  - To collect all the dishes, you should follow the workshop section by section and add your found dish (new coding concept) to the end of the following prompt and take it to LLM AI:\n",
        "\n",
        " `You are going to take on the role of an excellent python coding tutor. I'm a beginner learning to program in python. In simple terms, please give me an overview and explanation of the following concept:  `\n",
        "\n",
        "  - You can add more surrounding components to the prompts to make it more clear. For example, maybe you know another language and want LLM AI to compare how the concept works in R or C++ to help you better understand.\n",
        "\n",
        "### **Disclaimer**\n",
        "- Outputs may be inaccurate, untruthful, and otherwise misleading.\n",
        "- It may produce biased content.\n",
        "- It will not cite sources.\n",
        "  \n",
        "Always use caution when interacting with LLM AI systems. Despite the large bounds in progress and capability, they are still in early versions and teams of people are working to fix short comings and mistakes each and every day. Despite how useful they can be as coding tutors, it is important to remember that their outputs should be met with a healthy amount of skepticism."
      ],
      "metadata": {
        "id": "pWRCNtZYaegw"
      }
    },
    {
      "cell_type": "markdown",
      "metadata": {
        "id": "2F2ZYWa-Jby8"
      },
      "source": [
        "## **Introduction**\n",
        "* Developed in early 90’s by **Guido Van Rossum**\n",
        "\n",
        "### What is 🍕**Python Programming Language**\n",
        "* General purpose,\n",
        " * *High Level*\n",
        " * *Structured*\n",
        " * *Interpreted*\n",
        " * *Object-oriented Language*\n",
        "\n",
        "* Simple, Portable, Open source & Powerful\n",
        "\n",
        "### **Ways to run Python**\n",
        "* Interactive Interpreter (Classic command line interpreter or Python Shell) - Run as a calculator or used to run a python program\n",
        "* Script from command line - Used to run a python program\n",
        "* General purpose Integrated Development Environment (IDE) - Eclipse, Netbeans, etc\n",
        "* Python dedicated IDEs like Pycharm, Spyder, IDLE\n",
        "* Web-based interactive computational environment like Jupyter Notebooks, Google Colaboratory, etc\n",
        "---\n",
        "Did you notice the first food emoji? Here is an example of how to use the sample prompt given above:\n",
        "\n",
        " `You are going to take on the role of an excellent python coding tutor. I'm a beginner learning to program in python. In simple terms, please give me an overview and explanation of the following concept: Python Programming Language `\n"
      ]
    },
    {
      "cell_type": "markdown",
      "metadata": {
        "id": "kfTgkZkLJby_"
      },
      "source": [
        "## **Variables and Data Types**\n",
        "\n",
        "### 🍔**Variables**\n",
        "* Stores a piece of data and gives it a specific name\n",
        "* Do not need to specify data type (No Declaration needed)\n",
        "* Equal sign **( = )** is used to assign values to variables"
      ]
    },
    {
      "cell_type": "code",
      "execution_count": 1,
      "metadata": {
        "id": "NwPQCHCjJbzA"
      },
      "outputs": [],
      "source": [
        "v = 98"
      ]
    },
    {
      "cell_type": "markdown",
      "metadata": {
        "id": "NXtNn68IJbzC"
      },
      "source": [
        "**' v '** is the variable name\n",
        "<br>\n",
        "**' = '** is the assignment operator\n",
        "<br>\n",
        "**98** is the value\n",
        "\n",
        "#### **Variable names**\n",
        "* No spaces allowed (Use underscore or init caps, example - 'my_name' or 'myName')\n",
        "* No special symbols or characters like '\"@#%^&()-/\\* except the underscore '_'\n",
        "* Cannot begin with a number but may have a number within the variable name\n",
        "* The python community by convention begin variable names with small letters but caps are allowed anywhere else"
      ]
    },
    {
      "cell_type": "code",
      "execution_count": 5,
      "metadata": {
        "id": "q6J2lkC5JbzD"
      },
      "outputs": [],
      "source": [
        "my_name = 'Ellen'"
      ]
    },
    {
      "cell_type": "code",
      "execution_count": 3,
      "metadata": {
        "collapsed": true,
        "id": "Vf379bm0JbzE"
      },
      "outputs": [],
      "source": [
        "v_1 = 8\n",
        "v_2 = 9"
      ]
    },
    {
      "cell_type": "markdown",
      "metadata": {
        "id": "ShelRFFaJbzF"
      },
      "source": [
        "#### **Using a variable**\n",
        "To use a variable, just type out the variable name.\n",
        "<br>\n",
        "See examples below"
      ]
    },
    {
      "cell_type": "code",
      "execution_count": 6,
      "metadata": {
        "collapsed": true,
        "id": "hpZCMlK_JbzF",
        "colab": {
          "base_uri": "https://localhost:8080/"
        },
        "outputId": "70647760-67df-40f1-c1fd-5b4cb87fb785"
      },
      "outputs": [
        {
          "output_type": "stream",
          "name": "stdout",
          "text": [
            "Ellen\n"
          ]
        }
      ],
      "source": [
        "print(my_name)"
      ]
    },
    {
      "cell_type": "code",
      "execution_count": 7,
      "metadata": {
        "collapsed": true,
        "id": "WeBvi3jOJbzG"
      },
      "outputs": [],
      "source": [
        "age = v_1 + v_2"
      ]
    },
    {
      "cell_type": "code",
      "execution_count": 8,
      "metadata": {
        "collapsed": true,
        "id": "95KLYm_KJbzG",
        "colab": {
          "base_uri": "https://localhost:8080/"
        },
        "outputId": "a1affee9-ed96-41bd-ac52-61c712e03c85"
      },
      "outputs": [
        {
          "output_type": "stream",
          "name": "stdout",
          "text": [
            "I am 17 years old\n"
          ]
        }
      ],
      "source": [
        "print ('I am', age, 'years old')"
      ]
    },
    {
      "cell_type": "markdown",
      "metadata": {
        "id": "XAjGLtSDJbzH"
      },
      "source": [
        "**<h5><center>Note</center></h5>**\n",
        "\n",
        "\n",
        "**'print'** is a function that displays its arguments (inputs). It can take multiple arguments (inputs) separated by commas '**,**'.\n",
        "<br>\n",
        "We will introduce **functions** later"
      ]
    },
    {
      "cell_type": "markdown",
      "metadata": {
        "id": "lJgYIiVzJbzH"
      },
      "source": [
        "### 🥖**Data types**\n",
        "Data Types are implied. They do not have to be declared\n",
        "* Numeric types - int, float, complex\n",
        "* Boolean - True, False\n",
        "* String\n",
        "* List\n",
        "* Tuple\n",
        "* Dictionary\n",
        "* Set"
      ]
    },
    {
      "cell_type": "markdown",
      "metadata": {
        "id": "9hNbCDmNJbzH"
      },
      "source": [
        "## **Math Operators**"
      ]
    },
    {
      "cell_type": "markdown",
      "metadata": {
        "id": "0vocR7k6JbzI"
      },
      "source": [
        "#### **Addition ( + )**"
      ]
    },
    {
      "cell_type": "code",
      "execution_count": 9,
      "metadata": {
        "collapsed": true,
        "id": "s77kKUCyJbzI",
        "colab": {
          "base_uri": "https://localhost:8080/"
        },
        "outputId": "c6b54043-a8ef-41d2-d5d8-3ac9b4e9e273"
      },
      "outputs": [
        {
          "output_type": "execute_result",
          "data": {
            "text/plain": [
              "5"
            ]
          },
          "metadata": {},
          "execution_count": 9
        }
      ],
      "source": [
        "2+3"
      ]
    },
    {
      "cell_type": "markdown",
      "metadata": {
        "id": "x98C0uC3JbzI"
      },
      "source": [
        "#### **Subtraction ( - )**"
      ]
    },
    {
      "cell_type": "code",
      "execution_count": 10,
      "metadata": {
        "collapsed": true,
        "id": "yZa-N9Q-JbzI",
        "colab": {
          "base_uri": "https://localhost:8080/"
        },
        "outputId": "8dea6b3f-cf1b-4b7f-d00a-2b43a4928bb6"
      },
      "outputs": [
        {
          "output_type": "execute_result",
          "data": {
            "text/plain": [
              "6"
            ]
          },
          "metadata": {},
          "execution_count": 10
        }
      ],
      "source": [
        "9-3"
      ]
    },
    {
      "cell_type": "markdown",
      "metadata": {
        "id": "0au2KheqJbzJ"
      },
      "source": [
        "#### **Multiplication ( * )**"
      ]
    },
    {
      "cell_type": "code",
      "execution_count": 11,
      "metadata": {
        "collapsed": true,
        "id": "nyvHVkphJbzJ",
        "colab": {
          "base_uri": "https://localhost:8080/"
        },
        "outputId": "17d02117-924a-4740-c237-9023200d1e2d"
      },
      "outputs": [
        {
          "output_type": "execute_result",
          "data": {
            "text/plain": [
              "24"
            ]
          },
          "metadata": {},
          "execution_count": 11
        }
      ],
      "source": [
        "3*8"
      ]
    },
    {
      "cell_type": "markdown",
      "metadata": {
        "id": "z4xILHRdJbzJ"
      },
      "source": [
        "#### **Division( / )**"
      ]
    },
    {
      "cell_type": "code",
      "execution_count": 12,
      "metadata": {
        "collapsed": true,
        "id": "7d9fu8JmJbzJ",
        "colab": {
          "base_uri": "https://localhost:8080/"
        },
        "outputId": "adb11832-d84e-49ad-c4b5-dff5340a2662"
      },
      "outputs": [
        {
          "output_type": "execute_result",
          "data": {
            "text/plain": [
              "1.5"
            ]
          },
          "metadata": {},
          "execution_count": 12
        }
      ],
      "source": [
        "3/2"
      ]
    },
    {
      "cell_type": "markdown",
      "metadata": {
        "id": "0azByzdXJbzK"
      },
      "source": [
        "#### 🥐**Floor Division ( // )**"
      ]
    },
    {
      "cell_type": "code",
      "execution_count": 13,
      "metadata": {
        "collapsed": true,
        "id": "TsU9Cxs0JbzK",
        "colab": {
          "base_uri": "https://localhost:8080/"
        },
        "outputId": "89161287-193d-4b87-c125-30ffbedbae92"
      },
      "outputs": [
        {
          "output_type": "execute_result",
          "data": {
            "text/plain": [
              "1"
            ]
          },
          "metadata": {},
          "execution_count": 13
        }
      ],
      "source": [
        "3//2"
      ]
    },
    {
      "cell_type": "markdown",
      "metadata": {
        "id": "xlUt5OldJbzK"
      },
      "source": [
        "#### 🥞**Modulus( % )**"
      ]
    },
    {
      "cell_type": "code",
      "execution_count": 14,
      "metadata": {
        "collapsed": true,
        "id": "rhuRy1AIJbzK",
        "colab": {
          "base_uri": "https://localhost:8080/"
        },
        "outputId": "70b57ceb-9be9-48d7-8cf9-47420e084e60"
      },
      "outputs": [
        {
          "output_type": "execute_result",
          "data": {
            "text/plain": [
              "4"
            ]
          },
          "metadata": {},
          "execution_count": 14
        }
      ],
      "source": [
        "9%5"
      ]
    },
    {
      "cell_type": "markdown",
      "metadata": {
        "id": "Untu_IipJbzK"
      },
      "source": [
        "#### **Exponent**( ** )"
      ]
    },
    {
      "cell_type": "code",
      "execution_count": 15,
      "metadata": {
        "collapsed": true,
        "id": "H-1WTNieJbzK",
        "colab": {
          "base_uri": "https://localhost:8080/"
        },
        "outputId": "96f55480-6d7d-4b9e-f68c-f6e357d5bd1f"
      },
      "outputs": [
        {
          "output_type": "execute_result",
          "data": {
            "text/plain": [
              "8"
            ]
          },
          "metadata": {},
          "execution_count": 15
        }
      ],
      "source": [
        "2**3"
      ]
    },
    {
      "cell_type": "markdown",
      "metadata": {
        "id": "od8pPtXZJbzL"
      },
      "source": [
        "## 🍖**Comments**\n",
        "* Single line commenting symbol is the hash symbol '#'\n",
        "* The interpreter ignores everything after #\n",
        "* Leave comments in your code to make it understandable to other team members and for yourself"
      ]
    },
    {
      "cell_type": "code",
      "execution_count": 16,
      "metadata": {
        "collapsed": true,
        "id": "m5gAjgxVJbzL"
      },
      "outputs": [],
      "source": [
        "# This line is ignored"
      ]
    },
    {
      "cell_type": "markdown",
      "metadata": {
        "id": "sBI2YYy_JbzL"
      },
      "source": [
        "* Multi-line - Not supported in Python\n",
        "* Use the # on each line of a multiline comment"
      ]
    },
    {
      "cell_type": "code",
      "execution_count": 17,
      "metadata": {
        "collapsed": true,
        "id": "8W6owQ1MJbzL"
      },
      "outputs": [],
      "source": [
        "# This is a multiline comment\n",
        "# This line and the line above are both ignored by the interpreter"
      ]
    },
    {
      "cell_type": "markdown",
      "metadata": {
        "id": "Sgc3ZLqYJbzL"
      },
      "source": [
        "## **Exercise 1**\n",
        "#### **Tip Calculator!!**\n",
        "Cost of meal = 54.76\n",
        "<br>\n",
        "Tax = 7.85%\n",
        "<br>\n",
        "Tip = 15%\n",
        "<br>\n",
        "Find the tax amount, cost after the tax, tip amount, and total cost"
      ]
    },
    {
      "cell_type": "code",
      "execution_count": 21,
      "metadata": {
        "collapsed": true,
        "id": "g4Cxt7YlJbzL",
        "colab": {
          "base_uri": "https://localhost:8080/"
        },
        "outputId": "b6d349c3-bc1d-437b-c0b5-96ade32f12b7"
      },
      "outputs": [
        {
          "output_type": "stream",
          "name": "stdout",
          "text": [
            "My original meal cost is 54.76\n",
            "tax amount is 4.29866\n",
            "cost after tax is 59.058659999999996\n",
            "tip is 8.858799\n",
            "total cost of meal is 67.917459\n"
          ]
        }
      ],
      "source": [
        "# Create a variable for cost of meal, tax and tip and assign their values\n",
        "# Note that percentage is not captured in programming languages. Divide by 100 instead.\n",
        "cost_of_meal = 54.76\n",
        "tax = .0785\n",
        "tip = .15\n",
        "\n",
        "\n",
        "\n",
        "\n",
        "\n",
        "# Calculate tax amount by creating a variable for it and assign it to a formula using the variables for cost of meal and tax\n",
        "tax_amount = cost_of_meal * tax\n",
        "\n",
        "# Calculate cost after tax\n",
        "mealAndTax = cost_of_meal + tax_amount\n",
        "\n",
        "# Calculate tip amount\n",
        "# Hint: Calculate the tip amount the cost after tax\n",
        "tip_amount = mealAndTax * tip\n",
        "\n",
        "# Calculate total amount\n",
        "total = tip_amount + mealAndTax\n",
        "\n",
        "print('My original meal cost is', cost_of_meal)\n",
        "\n",
        "# Follow the example above and print the tax amount\n",
        "print('tax amount is', tax_amount )\n",
        "\n",
        "# Print the cost after tax\n",
        "print ('cost after tax is', mealAndTax)\n",
        "\n",
        "# Print the tip amount\n",
        "print('tip is', tip_amount)\n",
        "\n",
        "# Print the total cost of the meal\n",
        "print('total cost of meal is', total)\n"
      ]
    },
    {
      "cell_type": "markdown",
      "metadata": {
        "id": "LqLwpXewJbzM"
      },
      "source": [
        "## 🍗**Strings**\n",
        "Any strand of all characters on the keyboard put in quotation.\n",
        "#### One line strings - declared in single quotes (' ') or double quotes (\" \")\n",
        "Single and double quotes can be used interchangeably"
      ]
    },
    {
      "cell_type": "code",
      "execution_count": 2,
      "metadata": {
        "collapsed": true,
        "id": "ooEaiaP0JbzM"
      },
      "outputs": [],
      "source": [
        "name_1 = 'John Wick'\n",
        "name_2 = \"Indiana Jones\""
      ]
    },
    {
      "cell_type": "code",
      "execution_count": 3,
      "metadata": {
        "collapsed": true,
        "id": "ITSgJV5pJbzM"
      },
      "outputs": [],
      "source": [
        "# this is a string and not an integer\n",
        "age = '2'"
      ]
    },
    {
      "cell_type": "code",
      "execution_count": 4,
      "metadata": {
        "collapsed": true,
        "id": "TdFySTyTJbzM"
      },
      "outputs": [],
      "source": [
        "# Start with a double quote if you use a single quote in your string\n",
        "f = \"This is Del's pencil\""
      ]
    },
    {
      "cell_type": "code",
      "execution_count": 5,
      "metadata": {
        "collapsed": true,
        "id": "uKzilGVSJbzN"
      },
      "outputs": [],
      "source": [
        "# Start with a single quote if you use a double quote in your string\n",
        "f = 'Francis said \"This is my pencil\"'"
      ]
    },
    {
      "cell_type": "code",
      "execution_count": 6,
      "metadata": {
        "collapsed": true,
        "id": "jusFlW0CJbzN",
        "colab": {
          "base_uri": "https://localhost:8080/"
        },
        "outputId": "2ee9c9c4-43e3-4304-ab8d-3da60513b4c7"
      },
      "outputs": [
        {
          "output_type": "stream",
          "name": "stdout",
          "text": [
            "Francis said \"This is my pencil\"\n"
          ]
        }
      ],
      "source": [
        "print (f)"
      ]
    },
    {
      "cell_type": "markdown",
      "metadata": {
        "id": "ZZMmcko0JbzN"
      },
      "source": [
        "#### **Multi-line strings - declared in triple quotes ( \"\"\" \"\"\" or ''' ''' )**"
      ]
    },
    {
      "cell_type": "code",
      "execution_count": 7,
      "metadata": {
        "collapsed": true,
        "id": "ta_VgcdEJbzN"
      },
      "outputs": [],
      "source": [
        "eg = \"\"\"I am in the CEAS library in\n",
        "Introduction to Python session \"\"\""
      ]
    },
    {
      "cell_type": "code",
      "execution_count": 8,
      "metadata": {
        "collapsed": true,
        "id": "iWiB6TZfJbzO",
        "colab": {
          "base_uri": "https://localhost:8080/"
        },
        "outputId": "49d4daf8-daff-49fe-bed7-9399b883046f"
      },
      "outputs": [
        {
          "output_type": "stream",
          "name": "stdout",
          "text": [
            "I am in the CEAS library in\n",
            "Introduction to Python session \n"
          ]
        }
      ],
      "source": [
        "print(eg)"
      ]
    },
    {
      "cell_type": "markdown",
      "metadata": {
        "id": "m-2FaICeJbzP"
      },
      "source": [
        "## 🥓**String Indexing**\n",
        "**Each character can be accessed by using their index starting from index 0**"
      ]
    },
    {
      "cell_type": "code",
      "execution_count": 9,
      "metadata": {
        "collapsed": true,
        "id": "s72_bPatJbzR"
      },
      "outputs": [],
      "source": [
        "name = 'Johnson Smith'"
      ]
    },
    {
      "cell_type": "code",
      "execution_count": 10,
      "metadata": {
        "collapsed": true,
        "id": "OWe6ConAJbzS",
        "colab": {
          "base_uri": "https://localhost:8080/",
          "height": 35
        },
        "outputId": "067eba48-a164-4d0d-8045-b89d4dc4bd4c"
      },
      "outputs": [
        {
          "output_type": "execute_result",
          "data": {
            "text/plain": [
              "'J'"
            ],
            "application/vnd.google.colaboratory.intrinsic+json": {
              "type": "string"
            }
          },
          "metadata": {},
          "execution_count": 10
        }
      ],
      "source": [
        "name[0]"
      ]
    },
    {
      "cell_type": "code",
      "execution_count": 11,
      "metadata": {
        "collapsed": true,
        "id": "HzLXgB_AJbzS",
        "colab": {
          "base_uri": "https://localhost:8080/",
          "height": 35
        },
        "outputId": "f37e283b-01fd-40da-da22-6b8ce028831e"
      },
      "outputs": [
        {
          "output_type": "execute_result",
          "data": {
            "text/plain": [
              "'o'"
            ],
            "application/vnd.google.colaboratory.intrinsic+json": {
              "type": "string"
            }
          },
          "metadata": {},
          "execution_count": 11
        }
      ],
      "source": [
        "name[1]"
      ]
    },
    {
      "cell_type": "code",
      "execution_count": 12,
      "metadata": {
        "collapsed": true,
        "id": "fpYQDY0dJbzS",
        "colab": {
          "base_uri": "https://localhost:8080/",
          "height": 35
        },
        "outputId": "1a28d60f-2a43-4ab9-d7f7-fce8c3506e40"
      },
      "outputs": [
        {
          "output_type": "execute_result",
          "data": {
            "text/plain": [
              "' '"
            ],
            "application/vnd.google.colaboratory.intrinsic+json": {
              "type": "string"
            }
          },
          "metadata": {},
          "execution_count": 12
        }
      ],
      "source": [
        "name[7]"
      ]
    },
    {
      "cell_type": "code",
      "execution_count": 13,
      "metadata": {
        "collapsed": true,
        "id": "V4L_cT3-JbzT",
        "colab": {
          "base_uri": "https://localhost:8080/",
          "height": 35
        },
        "outputId": "ae0e7060-99b6-45d7-b587-9a2b91089cb8"
      },
      "outputs": [
        {
          "output_type": "execute_result",
          "data": {
            "text/plain": [
              "'h'"
            ],
            "application/vnd.google.colaboratory.intrinsic+json": {
              "type": "string"
            }
          },
          "metadata": {},
          "execution_count": 13
        }
      ],
      "source": [
        "name[12]"
      ]
    },
    {
      "cell_type": "markdown",
      "metadata": {
        "id": "KcCb940cJbzT"
      },
      "source": [
        "**You can start indexing from the right side with negative indexes starting with index -1**"
      ]
    },
    {
      "cell_type": "code",
      "execution_count": 14,
      "metadata": {
        "collapsed": true,
        "id": "mbIIXAGcJbzT",
        "colab": {
          "base_uri": "https://localhost:8080/",
          "height": 35
        },
        "outputId": "2065873a-8dd4-4971-e21d-29a96b93010a"
      },
      "outputs": [
        {
          "output_type": "execute_result",
          "data": {
            "text/plain": [
              "'h'"
            ],
            "application/vnd.google.colaboratory.intrinsic+json": {
              "type": "string"
            }
          },
          "metadata": {},
          "execution_count": 14
        }
      ],
      "source": [
        "name[-1]"
      ]
    },
    {
      "cell_type": "code",
      "execution_count": 15,
      "metadata": {
        "collapsed": true,
        "id": "WuOfTkJTJbzT",
        "colab": {
          "base_uri": "https://localhost:8080/",
          "height": 35
        },
        "outputId": "76cddcea-4147-4f0c-82fb-8a217bb6ed41"
      },
      "outputs": [
        {
          "output_type": "execute_result",
          "data": {
            "text/plain": [
              "'t'"
            ],
            "application/vnd.google.colaboratory.intrinsic+json": {
              "type": "string"
            }
          },
          "metadata": {},
          "execution_count": 15
        }
      ],
      "source": [
        "name[-2]"
      ]
    },
    {
      "cell_type": "code",
      "execution_count": 16,
      "metadata": {
        "collapsed": true,
        "id": "TkqDQS_mJbzT",
        "colab": {
          "base_uri": "https://localhost:8080/",
          "height": 35
        },
        "outputId": "ab4f9eb7-6d1e-4273-efcf-b68cafec3700"
      },
      "outputs": [
        {
          "output_type": "execute_result",
          "data": {
            "text/plain": [
              "'J'"
            ],
            "application/vnd.google.colaboratory.intrinsic+json": {
              "type": "string"
            }
          },
          "metadata": {},
          "execution_count": 16
        }
      ],
      "source": [
        "name[-13]"
      ]
    },
    {
      "cell_type": "markdown",
      "metadata": {
        "id": "90x7fnlIJbzT"
      },
      "source": [
        "### 🍟**String Slicing**\n",
        "\n",
        "\n",
        "**You can extract a range of characters**\n",
        "<br>\n",
        "Assume a string variable called **'var'**\n",
        "<br>\n",
        "**var[starting index : ending index + 1]**"
      ]
    },
    {
      "cell_type": "code",
      "execution_count": 17,
      "metadata": {
        "collapsed": true,
        "id": "_k-KMpMYJbzU",
        "colab": {
          "base_uri": "https://localhost:8080/",
          "height": 35
        },
        "outputId": "0e0ac70f-f941-4844-b27b-3c22844a99b0"
      },
      "outputs": [
        {
          "output_type": "execute_result",
          "data": {
            "text/plain": [
              "'Johnson Smith'"
            ],
            "application/vnd.google.colaboratory.intrinsic+json": {
              "type": "string"
            }
          },
          "metadata": {},
          "execution_count": 17
        }
      ],
      "source": [
        "name"
      ]
    },
    {
      "cell_type": "code",
      "execution_count": 18,
      "metadata": {
        "collapsed": true,
        "id": "eXJpG5EjJbzU",
        "colab": {
          "base_uri": "https://localhost:8080/",
          "height": 35
        },
        "outputId": "4b26667a-b637-48c1-d839-a16691f9ead5"
      },
      "outputs": [
        {
          "output_type": "execute_result",
          "data": {
            "text/plain": [
              "'Johnso'"
            ],
            "application/vnd.google.colaboratory.intrinsic+json": {
              "type": "string"
            }
          },
          "metadata": {},
          "execution_count": 18
        }
      ],
      "source": [
        "name[0:6]"
      ]
    },
    {
      "cell_type": "code",
      "execution_count": 19,
      "metadata": {
        "collapsed": true,
        "id": "OQtOJutEJbzU",
        "colab": {
          "base_uri": "https://localhost:8080/",
          "height": 35
        },
        "outputId": "45ba4ab1-4554-4719-e074-ca63d3c695a2"
      },
      "outputs": [
        {
          "output_type": "execute_result",
          "data": {
            "text/plain": [
              "' Smith'"
            ],
            "application/vnd.google.colaboratory.intrinsic+json": {
              "type": "string"
            }
          },
          "metadata": {},
          "execution_count": 19
        }
      ],
      "source": [
        "name[7:13]"
      ]
    },
    {
      "cell_type": "code",
      "execution_count": 20,
      "metadata": {
        "collapsed": true,
        "id": "GypGTqPDJbzU",
        "colab": {
          "base_uri": "https://localhost:8080/",
          "height": 35
        },
        "outputId": "fbe8d00e-f976-4447-d74c-f73db8e42b6f"
      },
      "outputs": [
        {
          "output_type": "execute_result",
          "data": {
            "text/plain": [
              "'ohn'"
            ],
            "application/vnd.google.colaboratory.intrinsic+json": {
              "type": "string"
            }
          },
          "metadata": {},
          "execution_count": 20
        }
      ],
      "source": [
        "name[1:4]"
      ]
    },
    {
      "cell_type": "markdown",
      "metadata": {
        "id": "Ako9162jJbzU"
      },
      "source": [
        "**<h5><center>Note</center></h5>**\n",
        "\n",
        "**Strings are \"IMMUTABLE\"**\n",
        "Once you create a string object, you cannot change a particular string location.\n",
        "<br>\n",
        "**name[6] = 'c'**\n",
        "<br>\n",
        "will result in the error below\n",
        "\n",
        "\n",
        "---\n",
        "\n",
        "\n",
        "\n",
        "TypeError                                 Traceback (most recent call last)\n",
        "<br>\n",
        "< ipython-input-44-d47a2608aba2 > in < module >()\n",
        "<br>\n",
        "----> 1 name[6]='-'\n",
        "<br>\n",
        "TypeError: 'str' object does not support item assignment\n",
        "\n",
        "\n",
        "---\n",
        "\n",
        "\n",
        "🦐 **Tip:** Try copy and pasting the error message above into LLM AI for more explanation and examples on string immutability."
      ]
    },
    {
      "cell_type": "code",
      "source": [
        "name[6] = 'c'"
      ],
      "metadata": {
        "id": "OpCNU-MSYEp7",
        "colab": {
          "base_uri": "https://localhost:8080/",
          "height": 144
        },
        "outputId": "0353d236-7d40-425b-ec22-b3dfde86b762"
      },
      "execution_count": 21,
      "outputs": [
        {
          "output_type": "error",
          "ename": "TypeError",
          "evalue": "'str' object does not support item assignment",
          "traceback": [
            "\u001b[0;31m---------------------------------------------------------------------------\u001b[0m",
            "\u001b[0;31mTypeError\u001b[0m                                 Traceback (most recent call last)",
            "\u001b[0;32m/tmp/ipython-input-21-3233853769.py\u001b[0m in \u001b[0;36m<cell line: 0>\u001b[0;34m()\u001b[0m\n\u001b[0;32m----> 1\u001b[0;31m \u001b[0mname\u001b[0m\u001b[0;34m[\u001b[0m\u001b[0;36m6\u001b[0m\u001b[0;34m]\u001b[0m \u001b[0;34m=\u001b[0m \u001b[0;34m'c'\u001b[0m\u001b[0;34m\u001b[0m\u001b[0;34m\u001b[0m\u001b[0m\n\u001b[0m",
            "\u001b[0;31mTypeError\u001b[0m: 'str' object does not support item assignment"
          ]
        }
      ]
    },
    {
      "cell_type": "markdown",
      "metadata": {
        "id": "VFFrbkSbJbzU"
      },
      "source": [
        "### 🥗**Some String Functions and Methods**\n",
        "\n"
      ]
    },
    {
      "cell_type": "code",
      "execution_count": 22,
      "metadata": {
        "collapsed": true,
        "id": "8rsCX3bbzHbF"
      },
      "outputs": [],
      "source": [
        "name = 'Johnson Smith'"
      ]
    },
    {
      "cell_type": "markdown",
      "source": [
        "**Length of string**"
      ],
      "metadata": {
        "id": "sx1iSc75zKSg"
      }
    },
    {
      "cell_type": "code",
      "execution_count": 23,
      "metadata": {
        "collapsed": true,
        "id": "eXXI-Sz0JbzU",
        "colab": {
          "base_uri": "https://localhost:8080/"
        },
        "outputId": "a13d3192-2727-4cfb-9704-1316bf541ce6"
      },
      "outputs": [
        {
          "output_type": "execute_result",
          "data": {
            "text/plain": [
              "13"
            ]
          },
          "metadata": {},
          "execution_count": 23
        }
      ],
      "source": [
        "len(name)"
      ]
    },
    {
      "cell_type": "markdown",
      "metadata": {
        "id": "r6TkmPasJbzV"
      },
      "source": [
        "**Convert to string**"
      ]
    },
    {
      "cell_type": "code",
      "execution_count": 24,
      "metadata": {
        "collapsed": true,
        "id": "VrBKRYOpJbzV"
      },
      "outputs": [],
      "source": [
        "age = 3"
      ]
    },
    {
      "cell_type": "code",
      "execution_count": 25,
      "metadata": {
        "collapsed": true,
        "id": "KgiOJoXeJbzV",
        "colab": {
          "base_uri": "https://localhost:8080/",
          "height": 35
        },
        "outputId": "7508976e-385d-467a-f11d-81caad1a6945"
      },
      "outputs": [
        {
          "output_type": "execute_result",
          "data": {
            "text/plain": [
              "'3'"
            ],
            "application/vnd.google.colaboratory.intrinsic+json": {
              "type": "string"
            }
          },
          "metadata": {},
          "execution_count": 25
        }
      ],
      "source": [
        "str(age)"
      ]
    },
    {
      "cell_type": "markdown",
      "metadata": {
        "id": "Q1083YjaJbzV"
      },
      "source": [
        "**Convert to lower case**"
      ]
    },
    {
      "cell_type": "code",
      "execution_count": 26,
      "metadata": {
        "collapsed": true,
        "id": "0iMxtIk3JbzV",
        "colab": {
          "base_uri": "https://localhost:8080/",
          "height": 35
        },
        "outputId": "0d350d16-b1e7-4c08-8e7b-224f962c7eac"
      },
      "outputs": [
        {
          "output_type": "execute_result",
          "data": {
            "text/plain": [
              "'johnson smith'"
            ],
            "application/vnd.google.colaboratory.intrinsic+json": {
              "type": "string"
            }
          },
          "metadata": {},
          "execution_count": 26
        }
      ],
      "source": [
        "name.lower()"
      ]
    },
    {
      "cell_type": "markdown",
      "metadata": {
        "id": "J8d9uFvDJbzV"
      },
      "source": [
        "**Convert to upper case**"
      ]
    },
    {
      "cell_type": "code",
      "execution_count": 27,
      "metadata": {
        "collapsed": true,
        "id": "QXVx-UBKJbzV",
        "colab": {
          "base_uri": "https://localhost:8080/",
          "height": 35
        },
        "outputId": "06e8c892-4470-41f9-99b3-2957c4235761"
      },
      "outputs": [
        {
          "output_type": "execute_result",
          "data": {
            "text/plain": [
              "'JOHNSON SMITH'"
            ],
            "application/vnd.google.colaboratory.intrinsic+json": {
              "type": "string"
            }
          },
          "metadata": {},
          "execution_count": 27
        }
      ],
      "source": [
        "name.upper()"
      ]
    },
    {
      "cell_type": "markdown",
      "metadata": {
        "id": "OsCHuF4LJbzV"
      },
      "source": [
        "**Is digit/Is alpha**\n",
        "\n",
        "Output is a Boolean value (True/False)"
      ]
    },
    {
      "cell_type": "code",
      "execution_count": 28,
      "metadata": {
        "id": "8PaS-4gRJbzV"
      },
      "outputs": [],
      "source": [
        "name = 'Francis'"
      ]
    },
    {
      "cell_type": "code",
      "execution_count": 29,
      "metadata": {
        "id": "L1zQTs6KJbzW",
        "colab": {
          "base_uri": "https://localhost:8080/"
        },
        "outputId": "f86bba92-6289-436e-fe5e-5da54ea78c66"
      },
      "outputs": [
        {
          "output_type": "execute_result",
          "data": {
            "text/plain": [
              "False"
            ]
          },
          "metadata": {},
          "execution_count": 29
        }
      ],
      "source": [
        "name.isdigit()"
      ]
    },
    {
      "cell_type": "code",
      "execution_count": 30,
      "metadata": {
        "id": "V2bvNTsnJbzW",
        "colab": {
          "base_uri": "https://localhost:8080/"
        },
        "outputId": "9ceb92cb-8451-49b4-f3e9-a759cfc86aef"
      },
      "outputs": [
        {
          "output_type": "execute_result",
          "data": {
            "text/plain": [
              "True"
            ]
          },
          "metadata": {},
          "execution_count": 30
        }
      ],
      "source": [
        "name.isalpha()"
      ]
    },
    {
      "cell_type": "code",
      "execution_count": 31,
      "metadata": {
        "id": "HsC8FFxAJbzW",
        "colab": {
          "base_uri": "https://localhost:8080/"
        },
        "outputId": "2cee7cde-dd92-4fcc-ca38-fa85ebb8ca93"
      },
      "outputs": [
        {
          "output_type": "execute_result",
          "data": {
            "text/plain": [
              "True"
            ]
          },
          "metadata": {},
          "execution_count": 31
        }
      ],
      "source": [
        "str(age).isdigit()"
      ]
    },
    {
      "cell_type": "markdown",
      "metadata": {
        "id": "KaD4_Yv_JbzW"
      },
      "source": [
        "**Replace characters**"
      ]
    },
    {
      "cell_type": "code",
      "execution_count": 32,
      "metadata": {
        "id": "1jgZyg6LJbzW",
        "colab": {
          "base_uri": "https://localhost:8080/",
          "height": 35
        },
        "outputId": "1df35619-f99c-4d4a-aeff-52ba37207413"
      },
      "outputs": [
        {
          "output_type": "execute_result",
          "data": {
            "text/plain": [
              "'Francik'"
            ],
            "application/vnd.google.colaboratory.intrinsic+json": {
              "type": "string"
            }
          },
          "metadata": {},
          "execution_count": 32
        }
      ],
      "source": [
        "name.replace('s','k')"
      ]
    },
    {
      "cell_type": "markdown",
      "metadata": {
        "id": "PiLfUubcJbzW"
      },
      "source": [
        "**Split a string using a delimiter character**"
      ]
    },
    {
      "cell_type": "code",
      "execution_count": 33,
      "metadata": {
        "collapsed": true,
        "id": "p2rNlVaIJbzW"
      },
      "outputs": [],
      "source": [
        "text = 'I am going to the University of Cincinnati'\n",
        "name = \"Mary-Jane Watson\""
      ]
    },
    {
      "cell_type": "code",
      "execution_count": 34,
      "metadata": {
        "collapsed": true,
        "id": "xVJl0euwJbzX",
        "colab": {
          "base_uri": "https://localhost:8080/"
        },
        "outputId": "841b2d72-4d67-42f7-c221-83a840fb72c4"
      },
      "outputs": [
        {
          "output_type": "execute_result",
          "data": {
            "text/plain": [
              "['I', 'am', 'going', 'to', 'the', 'University', 'of', 'Cincinnati']"
            ]
          },
          "metadata": {},
          "execution_count": 34
        }
      ],
      "source": [
        "text.split(' ')"
      ]
    },
    {
      "cell_type": "code",
      "execution_count": 35,
      "metadata": {
        "collapsed": true,
        "id": "B_ONGe-8JbzX",
        "colab": {
          "base_uri": "https://localhost:8080/"
        },
        "outputId": "588cdbd4-9a0d-4aff-80e6-66816790dab1"
      },
      "outputs": [
        {
          "output_type": "execute_result",
          "data": {
            "text/plain": [
              "['Mary', 'Jane Watson']"
            ]
          },
          "metadata": {},
          "execution_count": 35
        }
      ],
      "source": [
        "name.split('-')"
      ]
    },
    {
      "cell_type": "markdown",
      "metadata": {
        "id": "Da35EA9lJbzX"
      },
      "source": [
        "### 🥙**String Concatenation**\n",
        "**Combining of strings is done by using the (+) operator between them**"
      ]
    },
    {
      "cell_type": "code",
      "execution_count": 36,
      "metadata": {
        "id": "fT5ABaDwJbzX",
        "colab": {
          "base_uri": "https://localhost:8080/"
        },
        "outputId": "d00d2d0e-2b9e-4fa8-a678-e6b202111b46"
      },
      "outputs": [
        {
          "output_type": "stream",
          "name": "stdout",
          "text": [
            "My name is John\n"
          ]
        }
      ],
      "source": [
        "string1 = 'My name is '\n",
        "name = 'John'\n",
        "string2 = string1 + name\n",
        "print(string2)"
      ]
    },
    {
      "cell_type": "markdown",
      "metadata": {
        "id": "LViE84F3JbzX"
      },
      "source": [
        "**In order to combine a string with a non-string variable, use str( ) method to convert non-strings to strings**\n",
        "<br>\n",
        "You cannot concatenate a string with a non-string type without converting the non-string type to a string.\n",
        "<br>\n",
        "No conversion will result in error similar tp the error below\n",
        "\n",
        "TypeError                                 Traceback (most recent call last)\n",
        "<br>\n",
        "< ipython-input-77-887da7680fd9 > in < module >( )\n",
        "<br>\n",
        "----> 1 string1 + 9\n",
        "<br>\n",
        "TypeError: must be str, not int"
      ]
    },
    {
      "cell_type": "code",
      "execution_count": 37,
      "metadata": {
        "collapsed": true,
        "id": "TiPzbzLbJbzX",
        "colab": {
          "base_uri": "https://localhost:8080/"
        },
        "outputId": "88a1164e-d688-4c4b-ee23-3f42735b2964"
      },
      "outputs": [
        {
          "output_type": "stream",
          "name": "stdout",
          "text": [
            "My name is John I am 16 years old\n"
          ]
        }
      ],
      "source": [
        "string1 = 'My name is '\n",
        "name = 'John '\n",
        "age = 16\n",
        "string2 = string1 + name + 'I am ' + str(age) + ' years old'\n",
        "print(string2)"
      ]
    },
    {
      "cell_type": "markdown",
      "metadata": {
        "id": "Y_Kqnin6JbzY"
      },
      "source": [
        "## 🥘**Lists**\n",
        "* A datatype that can store a collection of different pieces of information as a sequence under a single variable name\n",
        "* **Creating lists** - Put comma separated values within square brackets. Values can be of different data types"
      ]
    },
    {
      "cell_type": "code",
      "execution_count": 38,
      "metadata": {
        "collapsed": true,
        "id": "nxGrRsZ0JbzY"
      },
      "outputs": [],
      "source": [
        "list1 = ['physics','astronomy',56.98,'MJ',-9.36]\n",
        "\n",
        "# list within a list\n",
        "list2 = ['chemistry','biology',77.98,[3,4,65],'EE',-56]"
      ]
    },
    {
      "cell_type": "markdown",
      "metadata": {
        "id": "bBa4IqjyJbzZ"
      },
      "source": [
        "### 🥚**Accessing values in a list via indexing**\n",
        "* Same as String objects.\n",
        "* Elements or a range of elements can be accessed by index"
      ]
    },
    {
      "cell_type": "code",
      "execution_count": 39,
      "metadata": {
        "collapsed": true,
        "id": "UPvvzf9OyY84"
      },
      "outputs": [],
      "source": [
        "list1 = ['physics','astronomy',56.98,'MJ',-9.36]\n",
        "\n",
        "list2 = ['chemistry','biology',77.98,[3,4,65],'EE',-56]"
      ]
    },
    {
      "cell_type": "code",
      "execution_count": 40,
      "metadata": {
        "collapsed": true,
        "id": "tP4czlz-JbzZ",
        "colab": {
          "base_uri": "https://localhost:8080/",
          "height": 35
        },
        "outputId": "31cf8905-396c-422a-f204-2e0d3ba1d7ad"
      },
      "outputs": [
        {
          "output_type": "execute_result",
          "data": {
            "text/plain": [
              "'physics'"
            ],
            "application/vnd.google.colaboratory.intrinsic+json": {
              "type": "string"
            }
          },
          "metadata": {},
          "execution_count": 40
        }
      ],
      "source": [
        "list1[0]"
      ]
    },
    {
      "cell_type": "code",
      "execution_count": 41,
      "metadata": {
        "collapsed": true,
        "id": "XfEITGJkJbzZ",
        "colab": {
          "base_uri": "https://localhost:8080/",
          "height": 35
        },
        "outputId": "11ab53d8-286e-49dc-ff8d-652df382ec70"
      },
      "outputs": [
        {
          "output_type": "execute_result",
          "data": {
            "text/plain": [
              "'astronomy'"
            ],
            "application/vnd.google.colaboratory.intrinsic+json": {
              "type": "string"
            }
          },
          "metadata": {},
          "execution_count": 41
        }
      ],
      "source": [
        "list1[1]"
      ]
    },
    {
      "cell_type": "code",
      "execution_count": 42,
      "metadata": {
        "collapsed": true,
        "id": "L46i99SqJbzZ",
        "colab": {
          "base_uri": "https://localhost:8080/"
        },
        "outputId": "32e604e9-7f85-48c4-a4d2-ab4078c21ddf"
      },
      "outputs": [
        {
          "output_type": "execute_result",
          "data": {
            "text/plain": [
              "-9.36"
            ]
          },
          "metadata": {},
          "execution_count": 42
        }
      ],
      "source": [
        "list1[4]"
      ]
    },
    {
      "cell_type": "code",
      "execution_count": 43,
      "metadata": {
        "collapsed": true,
        "id": "Xjz8d1d2Jbza",
        "colab": {
          "base_uri": "https://localhost:8080/"
        },
        "outputId": "905be065-e99d-4e62-94f8-a69fe5bb79e6"
      },
      "outputs": [
        {
          "output_type": "execute_result",
          "data": {
            "text/plain": [
              "-9.36"
            ]
          },
          "metadata": {},
          "execution_count": 43
        }
      ],
      "source": [
        "list1[-1]"
      ]
    },
    {
      "cell_type": "code",
      "source": [
        "list1[1]"
      ],
      "metadata": {
        "id": "PMzKkU3RHBtk",
        "colab": {
          "base_uri": "https://localhost:8080/",
          "height": 35
        },
        "outputId": "accddfae-63cf-41b9-e276-f55207556ebd"
      },
      "execution_count": 44,
      "outputs": [
        {
          "output_type": "execute_result",
          "data": {
            "text/plain": [
              "'astronomy'"
            ],
            "application/vnd.google.colaboratory.intrinsic+json": {
              "type": "string"
            }
          },
          "metadata": {},
          "execution_count": 44
        }
      ]
    },
    {
      "cell_type": "code",
      "execution_count": 45,
      "metadata": {
        "collapsed": true,
        "id": "4IFS57fKJbza",
        "colab": {
          "base_uri": "https://localhost:8080/",
          "height": 35
        },
        "outputId": "5097d6e9-9079-4b60-e80d-958847e4c1f3"
      },
      "outputs": [
        {
          "output_type": "execute_result",
          "data": {
            "text/plain": [
              "'MJ'"
            ],
            "application/vnd.google.colaboratory.intrinsic+json": {
              "type": "string"
            }
          },
          "metadata": {},
          "execution_count": 45
        }
      ],
      "source": [
        "list1[-2]"
      ]
    },
    {
      "cell_type": "code",
      "execution_count": 46,
      "metadata": {
        "collapsed": true,
        "id": "s70xjd39Jbza",
        "colab": {
          "base_uri": "https://localhost:8080/",
          "height": 35
        },
        "outputId": "b2042b97-3f4d-4521-83ba-479a5e361555"
      },
      "outputs": [
        {
          "output_type": "execute_result",
          "data": {
            "text/plain": [
              "'r'"
            ],
            "application/vnd.google.colaboratory.intrinsic+json": {
              "type": "string"
            }
          },
          "metadata": {},
          "execution_count": 46
        }
      ],
      "source": [
        "list1[1][3]"
      ]
    },
    {
      "cell_type": "code",
      "execution_count": 47,
      "metadata": {
        "collapsed": true,
        "id": "H-9wa56GJbza",
        "colab": {
          "base_uri": "https://localhost:8080/"
        },
        "outputId": "b4578603-eb70-4feb-d9af-e93d77af2164"
      },
      "outputs": [
        {
          "output_type": "execute_result",
          "data": {
            "text/plain": [
              "[3, 4, 65]"
            ]
          },
          "metadata": {},
          "execution_count": 47
        }
      ],
      "source": [
        "list2[3]"
      ]
    },
    {
      "cell_type": "code",
      "execution_count": 48,
      "metadata": {
        "collapsed": true,
        "id": "bsjd4qfJJbza",
        "colab": {
          "base_uri": "https://localhost:8080/"
        },
        "outputId": "816ac385-c466-4419-c2bc-59292708d65c"
      },
      "outputs": [
        {
          "output_type": "execute_result",
          "data": {
            "text/plain": [
              "65"
            ]
          },
          "metadata": {},
          "execution_count": 48
        }
      ],
      "source": [
        "list2[3][2]"
      ]
    },
    {
      "cell_type": "code",
      "execution_count": 49,
      "metadata": {
        "collapsed": true,
        "id": "Uzcz2suzJbza",
        "colab": {
          "base_uri": "https://localhost:8080/"
        },
        "outputId": "353c433d-ce3f-4ee3-be64-faf44f312fb6"
      },
      "outputs": [
        {
          "output_type": "execute_result",
          "data": {
            "text/plain": [
              "['physics', 'astronomy', 56.98, 'MJ']"
            ]
          },
          "metadata": {},
          "execution_count": 49
        }
      ],
      "source": [
        "list1[0:4]"
      ]
    },
    {
      "cell_type": "code",
      "execution_count": 50,
      "metadata": {
        "collapsed": true,
        "id": "med3bwvdJbza",
        "colab": {
          "base_uri": "https://localhost:8080/"
        },
        "outputId": "02b4ad46-6d4e-460d-c187-2f22a663306b"
      },
      "outputs": [
        {
          "output_type": "execute_result",
          "data": {
            "text/plain": [
              "[[3, 4, 65], 'EE']"
            ]
          },
          "metadata": {},
          "execution_count": 50
        }
      ],
      "source": [
        "list2[3:5]"
      ]
    },
    {
      "cell_type": "markdown",
      "metadata": {
        "id": "BV0-aHa2Jbza"
      },
      "source": [
        "### 🍲**List Concatenation**\n",
        "**Can be done by using the (+) operator between two lists**"
      ]
    },
    {
      "cell_type": "code",
      "execution_count": 51,
      "metadata": {
        "collapsed": true,
        "id": "Qd5xjW-tJbzb",
        "colab": {
          "base_uri": "https://localhost:8080/"
        },
        "outputId": "51b18126-3194-4a81-f08b-844d6e7b0ff0"
      },
      "outputs": [
        {
          "output_type": "execute_result",
          "data": {
            "text/plain": [
              "[1, 2, 3, 5, 6, 7]"
            ]
          },
          "metadata": {},
          "execution_count": 51
        }
      ],
      "source": [
        "[1,2,3] + [5,6,7]"
      ]
    },
    {
      "cell_type": "code",
      "execution_count": 52,
      "metadata": {
        "collapsed": true,
        "id": "sOFgdNBcJbzb",
        "colab": {
          "base_uri": "https://localhost:8080/"
        },
        "outputId": "be9a8a38-09a1-4c0d-8c37-0f0da157dd4d"
      },
      "outputs": [
        {
          "output_type": "execute_result",
          "data": {
            "text/plain": [
              "['physics',\n",
              " 'astronomy',\n",
              " 56.98,\n",
              " 'MJ',\n",
              " -9.36,\n",
              " 'chemistry',\n",
              " 'biology',\n",
              " 77.98,\n",
              " [3, 4, 65],\n",
              " 'EE',\n",
              " -56]"
            ]
          },
          "metadata": {},
          "execution_count": 52
        }
      ],
      "source": [
        "list1 + list2"
      ]
    },
    {
      "cell_type": "markdown",
      "metadata": {
        "id": "ngYx05I2Jbzb"
      },
      "source": [
        "### 🍚**Some List Functions and Methods**\n",
        "\n"
      ]
    },
    {
      "cell_type": "code",
      "execution_count": 53,
      "metadata": {
        "collapsed": true,
        "id": "kJY9WQymzZv-"
      },
      "outputs": [],
      "source": [
        "list1 = ['physics','astronomy',56.98,'MJ',-9.36]\n",
        "\n",
        "list2 = ['chemistry','biology',77.98,[3,4,65],'EE',-56]"
      ]
    },
    {
      "cell_type": "markdown",
      "source": [
        "**Length of a list**"
      ],
      "metadata": {
        "id": "uKRBrOaOzdC4"
      }
    },
    {
      "cell_type": "code",
      "execution_count": 54,
      "metadata": {
        "collapsed": true,
        "id": "BOKHMpykJbzb",
        "colab": {
          "base_uri": "https://localhost:8080/"
        },
        "outputId": "bc286680-ac07-4ba4-98a6-8cfc7c97c7e2"
      },
      "outputs": [
        {
          "output_type": "execute_result",
          "data": {
            "text/plain": [
              "5"
            ]
          },
          "metadata": {},
          "execution_count": 54
        }
      ],
      "source": [
        "len(list1)"
      ]
    },
    {
      "cell_type": "code",
      "execution_count": 55,
      "metadata": {
        "collapsed": true,
        "id": "VbNHANviJbzb",
        "colab": {
          "base_uri": "https://localhost:8080/"
        },
        "outputId": "001601fe-8b73-4081-a56d-9b14926a3411"
      },
      "outputs": [
        {
          "output_type": "execute_result",
          "data": {
            "text/plain": [
              "6"
            ]
          },
          "metadata": {},
          "execution_count": 55
        }
      ],
      "source": [
        "len(list2)"
      ]
    },
    {
      "cell_type": "markdown",
      "metadata": {
        "id": "uC1TuokvJbzb"
      },
      "source": [
        "**Maximum/Minimum value**"
      ]
    },
    {
      "cell_type": "code",
      "execution_count": 56,
      "metadata": {
        "collapsed": true,
        "id": "n7CE5GjEJbzb"
      },
      "outputs": [],
      "source": [
        "list3 = [3,4,67,2,1]\n",
        "list4 = ['3','4','67','2','1','four','three']"
      ]
    },
    {
      "cell_type": "code",
      "execution_count": 57,
      "metadata": {
        "collapsed": true,
        "id": "HbKf4hFyJbzb",
        "colab": {
          "base_uri": "https://localhost:8080/"
        },
        "outputId": "7484a83b-681c-4172-da20-613e210b6d54"
      },
      "outputs": [
        {
          "output_type": "execute_result",
          "data": {
            "text/plain": [
              "67"
            ]
          },
          "metadata": {},
          "execution_count": 57
        }
      ],
      "source": [
        "max(list3)"
      ]
    },
    {
      "cell_type": "code",
      "execution_count": 58,
      "metadata": {
        "collapsed": true,
        "id": "AWZIhNfDJbzc",
        "colab": {
          "base_uri": "https://localhost:8080/"
        },
        "outputId": "09e7fd18-ded4-41e5-df79-db2841dfa2c2"
      },
      "outputs": [
        {
          "output_type": "execute_result",
          "data": {
            "text/plain": [
              "1"
            ]
          },
          "metadata": {},
          "execution_count": 58
        }
      ],
      "source": [
        "min(list3)"
      ]
    },
    {
      "cell_type": "markdown",
      "metadata": {
        "id": "yfxr7_gxJbzc"
      },
      "source": [
        "**Append object to list**"
      ]
    },
    {
      "cell_type": "code",
      "source": [
        "list4"
      ],
      "metadata": {
        "id": "gqVukxPOznE0",
        "colab": {
          "base_uri": "https://localhost:8080/"
        },
        "outputId": "967432e7-11f7-4df8-bbf9-efa1152fe07f"
      },
      "execution_count": 59,
      "outputs": [
        {
          "output_type": "execute_result",
          "data": {
            "text/plain": [
              "['3', '4', '67', '2', '1', 'four', 'three']"
            ]
          },
          "metadata": {},
          "execution_count": 59
        }
      ]
    },
    {
      "cell_type": "code",
      "execution_count": 60,
      "metadata": {
        "collapsed": true,
        "id": "I4u9PlxuJbzc",
        "colab": {
          "base_uri": "https://localhost:8080/"
        },
        "outputId": "3624ca13-0cf0-4f61-cb89-19a98a364f53"
      },
      "outputs": [
        {
          "output_type": "execute_result",
          "data": {
            "text/plain": [
              "['3', '4', '67', '2', '1', 'four', 'three', 'two', 'three']"
            ]
          },
          "metadata": {},
          "execution_count": 60
        }
      ],
      "source": [
        "list4.append('two')\n",
        "list4.append('three')\n",
        "list4"
      ]
    },
    {
      "cell_type": "markdown",
      "metadata": {
        "id": "4PtLWHVmJbzd"
      },
      "source": [
        "**Insert object**"
      ]
    },
    {
      "cell_type": "code",
      "source": [
        "list4"
      ],
      "metadata": {
        "id": "In9efShizpE9",
        "colab": {
          "base_uri": "https://localhost:8080/"
        },
        "outputId": "034d6a95-9fa2-4fea-ed3c-cca1fdbb863f"
      },
      "execution_count": 61,
      "outputs": [
        {
          "output_type": "execute_result",
          "data": {
            "text/plain": [
              "['3', '4', '67', '2', '1', 'four', 'three', 'two', 'three']"
            ]
          },
          "metadata": {},
          "execution_count": 61
        }
      ]
    },
    {
      "cell_type": "code",
      "execution_count": 62,
      "metadata": {
        "collapsed": true,
        "id": "MDNpjJhLJbzd",
        "colab": {
          "base_uri": "https://localhost:8080/"
        },
        "outputId": "8456522e-89dd-460e-b9e0-fe2beec2c73a"
      },
      "outputs": [
        {
          "output_type": "execute_result",
          "data": {
            "text/plain": [
              "['3', '4', '67', 56, '2', '1', 'four', 'three', 'two', 'three']"
            ]
          },
          "metadata": {},
          "execution_count": 62
        }
      ],
      "source": [
        "list4.insert(3,56)\n",
        "list4"
      ]
    },
    {
      "cell_type": "markdown",
      "metadata": {
        "id": "nIGTMS03Jbzc"
      },
      "source": [
        "**Frequency of object**"
      ]
    },
    {
      "cell_type": "code",
      "execution_count": 63,
      "metadata": {
        "collapsed": true,
        "id": "qR06JMjVJbzc",
        "colab": {
          "base_uri": "https://localhost:8080/"
        },
        "outputId": "c8f7e634-437c-4677-e54e-985005fa1bc7"
      },
      "outputs": [
        {
          "output_type": "execute_result",
          "data": {
            "text/plain": [
              "2"
            ]
          },
          "metadata": {},
          "execution_count": 63
        }
      ],
      "source": [
        "list4.count('three')"
      ]
    },
    {
      "cell_type": "markdown",
      "metadata": {
        "id": "zaf1MPiGJbzc"
      },
      "source": [
        "**Return index**"
      ]
    },
    {
      "cell_type": "code",
      "execution_count": 64,
      "metadata": {
        "collapsed": true,
        "id": "feot5GA4Jbzd",
        "colab": {
          "base_uri": "https://localhost:8080/"
        },
        "outputId": "fc9f871c-79a8-47a8-f6c3-733596a56f62"
      },
      "outputs": [
        {
          "output_type": "execute_result",
          "data": {
            "text/plain": [
              "5"
            ]
          },
          "metadata": {},
          "execution_count": 64
        }
      ],
      "source": [
        "list4.index('1')"
      ]
    },
    {
      "cell_type": "markdown",
      "metadata": {
        "id": "libxtAQQJbzd"
      },
      "source": [
        "**Delete object**\n",
        "\n",
        "*By Index position*"
      ]
    },
    {
      "cell_type": "code",
      "source": [
        "list4"
      ],
      "metadata": {
        "id": "vFkJmyJezs2k",
        "colab": {
          "base_uri": "https://localhost:8080/"
        },
        "outputId": "19f7672c-d695-4c06-fdfb-16a4d61aa4a2"
      },
      "execution_count": 65,
      "outputs": [
        {
          "output_type": "execute_result",
          "data": {
            "text/plain": [
              "['3', '4', '67', 56, '2', '1', 'four', 'three', 'two', 'three']"
            ]
          },
          "metadata": {},
          "execution_count": 65
        }
      ]
    },
    {
      "cell_type": "code",
      "execution_count": 66,
      "metadata": {
        "collapsed": true,
        "id": "W4BWqPgaJbzd",
        "colab": {
          "base_uri": "https://localhost:8080/"
        },
        "outputId": "bac175bf-98ec-4937-c0a7-384d41fcae94"
      },
      "outputs": [
        {
          "output_type": "execute_result",
          "data": {
            "text/plain": [
              "56"
            ]
          },
          "metadata": {},
          "execution_count": 66
        }
      ],
      "source": [
        "list4.pop(3)"
      ]
    },
    {
      "cell_type": "code",
      "execution_count": 67,
      "metadata": {
        "collapsed": true,
        "id": "c_vM_UmwJbzd",
        "colab": {
          "base_uri": "https://localhost:8080/"
        },
        "outputId": "582f0041-4a93-424a-d027-936e6d3a1920"
      },
      "outputs": [
        {
          "output_type": "execute_result",
          "data": {
            "text/plain": [
              "['3', '4', '67', '2', '1', 'four', 'three', 'two', 'three']"
            ]
          },
          "metadata": {},
          "execution_count": 67
        }
      ],
      "source": [
        "list4"
      ]
    },
    {
      "cell_type": "markdown",
      "metadata": {
        "id": "q2t8pQiZJbzd"
      },
      "source": [
        "*By element referencing*"
      ]
    },
    {
      "cell_type": "code",
      "execution_count": 68,
      "metadata": {
        "collapsed": true,
        "id": "kahBxey0Jbzd"
      },
      "outputs": [],
      "source": [
        "list4.remove('67')"
      ]
    },
    {
      "cell_type": "code",
      "execution_count": 69,
      "metadata": {
        "collapsed": true,
        "id": "NsFUfNEXJbze",
        "colab": {
          "base_uri": "https://localhost:8080/"
        },
        "outputId": "65fc7730-2eb9-4092-f23a-fc951f20b655"
      },
      "outputs": [
        {
          "output_type": "execute_result",
          "data": {
            "text/plain": [
              "['3', '4', '2', '1', 'four', 'three', 'two', 'three']"
            ]
          },
          "metadata": {},
          "execution_count": 69
        }
      ],
      "source": [
        "list4"
      ]
    },
    {
      "cell_type": "markdown",
      "metadata": {
        "id": "CBkmFtBJJbzf"
      },
      "source": [
        "**Reverse the list**"
      ]
    },
    {
      "cell_type": "code",
      "execution_count": 70,
      "metadata": {
        "collapsed": true,
        "id": "iX6vgMxzJbzf",
        "colab": {
          "base_uri": "https://localhost:8080/"
        },
        "outputId": "f2c7adeb-0735-4489-b6bb-e78f455c9afe"
      },
      "outputs": [
        {
          "output_type": "execute_result",
          "data": {
            "text/plain": [
              "['three', 'two', 'three', 'four', '1', '2', '4', '3']"
            ]
          },
          "metadata": {},
          "execution_count": 70
        }
      ],
      "source": [
        "list4.reverse()\n",
        "list4"
      ]
    },
    {
      "cell_type": "markdown",
      "metadata": {
        "id": "0ESz6kfEJbzf"
      },
      "source": [
        "**Sort the list (natural order)**"
      ]
    },
    {
      "cell_type": "code",
      "source": [
        "list3"
      ],
      "metadata": {
        "id": "liT2dBfVzxlR",
        "colab": {
          "base_uri": "https://localhost:8080/"
        },
        "outputId": "5ef42cd8-23ef-466d-afc4-e54ed09b1425"
      },
      "execution_count": 71,
      "outputs": [
        {
          "output_type": "execute_result",
          "data": {
            "text/plain": [
              "[3, 4, 67, 2, 1]"
            ]
          },
          "metadata": {},
          "execution_count": 71
        }
      ]
    },
    {
      "cell_type": "code",
      "execution_count": 72,
      "metadata": {
        "collapsed": true,
        "id": "_6uy70jwJbzg",
        "colab": {
          "base_uri": "https://localhost:8080/"
        },
        "outputId": "c2661501-eede-40c2-b74c-9045b0772b1b"
      },
      "outputs": [
        {
          "output_type": "execute_result",
          "data": {
            "text/plain": [
              "[1, 2, 3, 4, 67]"
            ]
          },
          "metadata": {},
          "execution_count": 72
        }
      ],
      "source": [
        "list3.sort()\n",
        "list3"
      ]
    },
    {
      "cell_type": "markdown",
      "metadata": {
        "id": "iUL8almkJbzg"
      },
      "source": [
        "**<h5><center>Note</center></h5>**\n",
        "\n",
        "**Lists are \"MUTABLE\"**"
      ]
    },
    {
      "cell_type": "code",
      "source": [
        "list4"
      ],
      "metadata": {
        "id": "9QZu6A22z00u",
        "colab": {
          "base_uri": "https://localhost:8080/"
        },
        "outputId": "ff081f87-c462-4dd1-81dc-62dcd6a521f2"
      },
      "execution_count": 73,
      "outputs": [
        {
          "output_type": "execute_result",
          "data": {
            "text/plain": [
              "['three', 'two', 'three', 'four', '1', '2', '4', '3']"
            ]
          },
          "metadata": {},
          "execution_count": 73
        }
      ]
    },
    {
      "cell_type": "code",
      "execution_count": 74,
      "metadata": {
        "collapsed": true,
        "id": "hfW2_6z-Jbzg",
        "colab": {
          "base_uri": "https://localhost:8080/"
        },
        "outputId": "fcd4b996-df93-4745-ed92-7b397b27f72d"
      },
      "outputs": [
        {
          "output_type": "execute_result",
          "data": {
            "text/plain": [
              "['three', 'two', 'three', 'four', '1', 5, '4', '3']"
            ]
          },
          "metadata": {},
          "execution_count": 74
        }
      ],
      "source": [
        "list4[5] = 5\n",
        "list4"
      ]
    },
    {
      "cell_type": "markdown",
      "metadata": {
        "id": "ga5U5wBoJbzg"
      },
      "source": [
        "## 🍜**Tuples**\n",
        "**Tuples are sequences, just like lists except**\n",
        "* Tuples are immutable - cannot be changed or updated like lists\n",
        "* Tuples use parentheses ( ), whereas lists use square brackets [ ]"
      ]
    },
    {
      "cell_type": "code",
      "execution_count": 75,
      "metadata": {
        "collapsed": true,
        "id": "0I0bWa65Jbzh"
      },
      "outputs": [],
      "source": [
        "tup = (3,4,67,2,1)"
      ]
    },
    {
      "cell_type": "markdown",
      "metadata": {
        "id": "7qsr7g5BJbzh"
      },
      "source": [
        "**tup[2] = 8**\n",
        "<br>\n",
        "will result in the error below\n",
        "\n",
        "TypeError                                 Traceback (most recent call last)\n",
        "<br>\n",
        "< ipython-input-177-256383ac5724 > in < module >()\n",
        "<br>\n",
        "----> 1 tup[2] = 8\n",
        "<br>\n",
        "TypeError: 'tuple' object does not support item assignment"
      ]
    },
    {
      "cell_type": "markdown",
      "metadata": {
        "id": "FStAtNEfJbzo"
      },
      "source": [
        "## 🍤**Sets**\n",
        "\n",
        "* A set is an unordered, unindexed collection of data\n",
        "* Sets are defined using '{ }'\n",
        "* Returns only unique values, no duplicates\n",
        "* Sets are mutable"
      ]
    },
    {
      "cell_type": "code",
      "execution_count": 76,
      "metadata": {
        "id": "_EdvkpxDJbzo",
        "colab": {
          "base_uri": "https://localhost:8080/"
        },
        "outputId": "eec7ce15-518a-4a72-d522-2b93c3ead974"
      },
      "outputs": [
        {
          "output_type": "execute_result",
          "data": {
            "text/plain": [
              "{'amazon', 'apple', 'google', 'microsoft', 'tesla'}"
            ]
          },
          "metadata": {},
          "execution_count": 76
        }
      ],
      "source": [
        "tech = {'google','amazon','apple','tesla','microsoft','apple', 'google'}\n",
        "tech"
      ]
    },
    {
      "cell_type": "markdown",
      "metadata": {
        "id": "nlurc852Jbzh"
      },
      "source": [
        "## **Dictionary**"
      ]
    },
    {
      "cell_type": "markdown",
      "metadata": {
        "id": "z_qbuJzHJbzh"
      },
      "source": [
        "* Similar to a list except values are accessed by looking up a **key** instead of an index\n",
        "* A key can be a string or number\n",
        "* 🍝**Creating dictionaries** - **key-value** pairs are separated by colons (**:**), items are separated by commas (**,**) and everything is enclosed in curly braces { }"
      ]
    },
    {
      "cell_type": "code",
      "execution_count": 77,
      "metadata": {
        "id": "rxCSq6bqJbzh"
      },
      "outputs": [],
      "source": [
        "dict1 = {\"name\":\"Daniel\",\"age\":23,\"degree\":\"MS\"}\n",
        "dict2 = {'name':'Francis','age':60,'job':'Car designer','brand':'Jaguar','worked-for':['Ford','TWR','Aston Martin']}"
      ]
    },
    {
      "cell_type": "markdown",
      "metadata": {
        "id": "UC47xYNJJbzh"
      },
      "source": [
        "* 🍠 **Accessing values**"
      ]
    },
    {
      "cell_type": "code",
      "execution_count": 78,
      "metadata": {
        "collapsed": true,
        "id": "QpPDTJJgJbzi",
        "colab": {
          "base_uri": "https://localhost:8080/"
        },
        "outputId": "57dc191c-02ad-4a68-8bb6-08d34093eafa"
      },
      "outputs": [
        {
          "output_type": "execute_result",
          "data": {
            "text/plain": [
              "23"
            ]
          },
          "metadata": {},
          "execution_count": 78
        }
      ],
      "source": [
        "dict1['age']"
      ]
    },
    {
      "cell_type": "code",
      "execution_count": 79,
      "metadata": {
        "collapsed": true,
        "id": "Lhu2QTaJJbzi",
        "colab": {
          "base_uri": "https://localhost:8080/"
        },
        "outputId": "3fdb0a29-a5b6-4a63-9671-2ff1eb2d8cf5"
      },
      "outputs": [
        {
          "output_type": "execute_result",
          "data": {
            "text/plain": [
              "['Ford', 'TWR', 'Aston Martin']"
            ]
          },
          "metadata": {},
          "execution_count": 79
        }
      ],
      "source": [
        "dict2['worked-for']"
      ]
    },
    {
      "cell_type": "code",
      "execution_count": 80,
      "metadata": {
        "collapsed": true,
        "id": "0vceauJ_Jbzi",
        "colab": {
          "base_uri": "https://localhost:8080/",
          "height": 35
        },
        "outputId": "507e9b68-f196-4663-8f43-67ad51820962"
      },
      "outputs": [
        {
          "output_type": "execute_result",
          "data": {
            "text/plain": [
              "'TWR'"
            ],
            "application/vnd.google.colaboratory.intrinsic+json": {
              "type": "string"
            }
          },
          "metadata": {},
          "execution_count": 80
        }
      ],
      "source": [
        "dict2['worked-for'][1]"
      ]
    },
    {
      "cell_type": "markdown",
      "metadata": {
        "id": "HPGSJgpgJbzi"
      },
      "source": [
        "* **Updating dictionary** - Dictionaries are MUTABLE.\n",
        "<br>\n",
        "  You may **modify an existing entry** and **add new entry**"
      ]
    },
    {
      "cell_type": "code",
      "execution_count": 81,
      "metadata": {
        "collapsed": true,
        "id": "2s-rJtlFJbzi"
      },
      "outputs": [],
      "source": [
        "dict1['subjects'] = [\"OS\",'DBMS','Artificial Intelligence']"
      ]
    },
    {
      "cell_type": "code",
      "execution_count": 82,
      "metadata": {
        "collapsed": true,
        "id": "GNY-Iu1vJbzi",
        "colab": {
          "base_uri": "https://localhost:8080/"
        },
        "outputId": "1466d2e0-bdc2-49a8-d7d0-07a51607ac61"
      },
      "outputs": [
        {
          "output_type": "execute_result",
          "data": {
            "text/plain": [
              "{'name': 'Daniel',\n",
              " 'age': 23,\n",
              " 'degree': 'MS',\n",
              " 'subjects': ['OS', 'DBMS', 'Artificial Intelligence']}"
            ]
          },
          "metadata": {},
          "execution_count": 82
        }
      ],
      "source": [
        "dict1"
      ]
    },
    {
      "cell_type": "code",
      "execution_count": 83,
      "metadata": {
        "collapsed": true,
        "id": "CNJaI2UdJbzj"
      },
      "outputs": [],
      "source": [
        "dict1['degree']='Master of Science'"
      ]
    },
    {
      "cell_type": "code",
      "execution_count": 84,
      "metadata": {
        "collapsed": true,
        "id": "P5PiCM0RJbzj",
        "colab": {
          "base_uri": "https://localhost:8080/"
        },
        "outputId": "0ca8c0bf-3d91-4153-b8dd-e805f7399e3e"
      },
      "outputs": [
        {
          "output_type": "execute_result",
          "data": {
            "text/plain": [
              "{'name': 'Daniel',\n",
              " 'age': 23,\n",
              " 'degree': 'Master of Science',\n",
              " 'subjects': ['OS', 'DBMS', 'Artificial Intelligence']}"
            ]
          },
          "metadata": {},
          "execution_count": 84
        }
      ],
      "source": [
        "dict1"
      ]
    },
    {
      "cell_type": "markdown",
      "metadata": {
        "id": "Ri0LbB_2Jbzj"
      },
      "source": [
        "### 🍣**Some Dictionary functions and Methods**\n"
      ]
    },
    {
      "cell_type": "markdown",
      "source": [
        "**Length of Dictionary**"
      ],
      "metadata": {
        "id": "7AYYEbOF0B0r"
      }
    },
    {
      "cell_type": "code",
      "execution_count": 85,
      "metadata": {
        "id": "v6NYnsGoz_QG"
      },
      "outputs": [],
      "source": [
        "dict1 = {\"name\":\"Daniel\",\"age\":23,\"degree\":\"MS\"}\n",
        "dict2 = {'name':'Francis','age':60,'job':'Car designer','brand':'Jaguar','worked-for':['Ford','TWR','Aston Martin']}"
      ]
    },
    {
      "cell_type": "code",
      "execution_count": 86,
      "metadata": {
        "collapsed": true,
        "id": "W7JZ5gNdJbzj",
        "colab": {
          "base_uri": "https://localhost:8080/"
        },
        "outputId": "7b54ec79-d810-48c5-8fce-333dc9305e4a"
      },
      "outputs": [
        {
          "output_type": "execute_result",
          "data": {
            "text/plain": [
              "3"
            ]
          },
          "metadata": {},
          "execution_count": 86
        }
      ],
      "source": [
        "len(dict1)"
      ]
    },
    {
      "cell_type": "markdown",
      "metadata": {
        "id": "Y5dYpeWQJbzj"
      },
      "source": [
        "**Return value with get method**"
      ]
    },
    {
      "cell_type": "code",
      "execution_count": 87,
      "metadata": {
        "collapsed": true,
        "id": "BDmVib-kJbzk",
        "colab": {
          "base_uri": "https://localhost:8080/",
          "height": 35
        },
        "outputId": "ad7dbb70-22c4-401d-c0c9-1df3615fcc87"
      },
      "outputs": [
        {
          "output_type": "execute_result",
          "data": {
            "text/plain": [
              "'Daniel'"
            ],
            "application/vnd.google.colaboratory.intrinsic+json": {
              "type": "string"
            }
          },
          "metadata": {},
          "execution_count": 87
        }
      ],
      "source": [
        "dict1.get('name')"
      ]
    },
    {
      "cell_type": "markdown",
      "metadata": {
        "id": "HK0otsWwJbzk"
      },
      "source": [
        "**List of key-value pairs**"
      ]
    },
    {
      "cell_type": "code",
      "execution_count": 88,
      "metadata": {
        "collapsed": true,
        "id": "I7lEpCQIJbzn",
        "colab": {
          "base_uri": "https://localhost:8080/"
        },
        "outputId": "77eb7b50-f101-4ea1-fdaf-4ff05c303c2f"
      },
      "outputs": [
        {
          "output_type": "execute_result",
          "data": {
            "text/plain": [
              "dict_items([('name', 'Daniel'), ('age', 23), ('degree', 'MS')])"
            ]
          },
          "metadata": {},
          "execution_count": 88
        }
      ],
      "source": [
        "dict1.items()"
      ]
    },
    {
      "cell_type": "markdown",
      "metadata": {
        "id": "SAy05kDQJbzn"
      },
      "source": [
        "**List of keys**"
      ]
    },
    {
      "cell_type": "code",
      "execution_count": 89,
      "metadata": {
        "collapsed": true,
        "id": "kAGTVOC3Jbzn",
        "colab": {
          "base_uri": "https://localhost:8080/"
        },
        "outputId": "3769318b-735b-4847-b989-4e53b54d2491"
      },
      "outputs": [
        {
          "output_type": "execute_result",
          "data": {
            "text/plain": [
              "dict_keys(['name', 'age', 'degree'])"
            ]
          },
          "metadata": {},
          "execution_count": 89
        }
      ],
      "source": [
        "dict1.keys()"
      ]
    },
    {
      "cell_type": "markdown",
      "metadata": {
        "id": "4HD5pUmDJbzn"
      },
      "source": [
        "**List of values**"
      ]
    },
    {
      "cell_type": "code",
      "execution_count": 90,
      "metadata": {
        "collapsed": true,
        "id": "Kfc7oLWVJbzn",
        "colab": {
          "base_uri": "https://localhost:8080/"
        },
        "outputId": "58bd8e1a-f9a2-41bd-de2e-0ebac1d8e0ef"
      },
      "outputs": [
        {
          "output_type": "execute_result",
          "data": {
            "text/plain": [
              "dict_values(['Daniel', 23, 'MS'])"
            ]
          },
          "metadata": {},
          "execution_count": 90
        }
      ],
      "source": [
        "dict1.values()"
      ]
    },
    {
      "cell_type": "markdown",
      "source": [
        "## **Exercise 2**\n",
        "\n",
        "#### **(Strings, Lists, and Dictionaries)**\n",
        "*   Create a variable with the string value - **'The quick brown fox jumps over a lazy dog'** <br>\n",
        "    * Print the length of this string variable\n",
        "    * **'Split'** the string using **'  '** (space character) and assign this operation to a new variable. Print the length of the new variable\n",
        "    * Find the middle element of the sequence in new variable and return its value\n",
        "    * **'append'** a new string value, 'number 5' (5 is an integer. Concatenate the values, 'number' and 5, while appending)\n",
        "    * **'Join'** the split strings (in the new variable) with a space character and print this operation (**Hint: ' '.join(variable_name)**)\n",
        "\n",
        "\n",
        "\n",
        "\n",
        "\n"
      ],
      "metadata": {
        "id": "HY2I6gLsT7eh"
      }
    },
    {
      "cell_type": "code",
      "source": [
        "sentence = \"The quick brown fox jumps over a lazy dog\"\n",
        "newOne = sentence.split(' ')\n",
        "print (newOne)\n",
        "middle = len(newOne)//2\n",
        "print (middle)\n",
        "newOne.append('number 5')\n",
        "print(newOne)\n",
        "finalSentence = ' '.join(newOne)\n",
        "print(finalSentence)\n",
        "\n",
        "\n",
        "\n",
        "\n",
        "\n",
        "\n",
        "\n",
        "\n"
      ],
      "metadata": {
        "id": "zYOC6J9ET_mS",
        "colab": {
          "base_uri": "https://localhost:8080/"
        },
        "outputId": "cde54a5f-06d7-4744-997a-71384ede4bb6"
      },
      "execution_count": 101,
      "outputs": [
        {
          "output_type": "stream",
          "name": "stdout",
          "text": [
            "['The', 'quick', 'brown', 'fox', 'jumps', 'over', 'a', 'lazy', 'dog']\n",
            "4\n",
            "['The', 'quick', 'brown', 'fox', 'jumps', 'over', 'a', 'lazy', 'dog', 'number 5']\n",
            "The quick brown fox jumps over a lazy dog number 5\n"
          ]
        }
      ]
    },
    {
      "cell_type": "markdown",
      "source": [
        "*   Create a dictionary from the following table. (Column Name - Keys, Corresponding Data - Values)\n",
        "  * Return **'keys'** and **'values'** separately\n",
        "\n",
        "\n",
        ">|Director | Movies | Academy Awards |\n",
        "|------|-----|-----------|\n",
        "| Q Tarantino    |<center> 10 |<center> 7  |\n",
        "| C Nolan   |<center> 11 |<center>11 |\n",
        "| S Spielberg    |<center> 37 |<center>3  |\n",
        "| PT Anderson    |<center> 9 |<center>3  |\n",
        "| M Scorsese\t   | <center>25 |<center>20 |\n",
        "| C Eastwood | <center>40 |<center>4 |"
      ],
      "metadata": {
        "id": "UCkNoyOQUKhR"
      }
    },
    {
      "cell_type": "code",
      "source": [
        "directors_dict = {\n",
        "    \"Director\": ['Q Tarantino', 'C Nolan', 'S Spielberg', 'PT Anderson', 'M Scorsese', 'C Eastwood'],\n",
        "    \"Movies\" : [10, 11, 37, 9, 25, 40],\n",
        "    \"Academy Awards\": [7, 11, 3, 3, 20, 4]\n",
        "}\n",
        "print (\"Keys:\", directors_dict.keys())\n",
        "print (\"Values:\", directors_dict.values())\n",
        "\n"
      ],
      "metadata": {
        "id": "5Sthe8F2UJhZ",
        "colab": {
          "base_uri": "https://localhost:8080/"
        },
        "outputId": "6e7c1c80-797b-42fb-8ece-3a2088399ae5"
      },
      "execution_count": 4,
      "outputs": [
        {
          "output_type": "stream",
          "name": "stdout",
          "text": [
            "Keys: dict_keys(['Director', 'Movies', 'Academy Awards'])\n",
            "Values: dict_values([['Q Tarantino', 'C Nolan', 'S Spielberg', 'PT Anderson', 'M Scorsese', 'C Eastwood'], [10, 11, 37, 9, 25, 40], [7, 11, 3, 3, 20, 4]])\n"
          ]
        }
      ]
    },
    {
      "cell_type": "markdown",
      "source": [
        "## **Bonus Exercise**\n",
        "\n",
        "### **Nested Dictionary**\n",
        "\n",
        "Create a dictionary with the following properties:\n",
        "\n",
        "- A 'name' key for a manager's name\n",
        "- A 'salary' key for a manager's salary\n",
        "- A 'assistant' key for the following dictionary:\n",
        "    - A 'name' key for an assistant's name\n",
        "    - A 'salary' key for an assistant's salary"
      ],
      "metadata": {
        "id": "UBX28RhQJbjx"
      }
    },
    {
      "cell_type": "code",
      "source": [
        "manager = {\n",
        "    \"name\": [],\n",
        "    \"salary\": [],\n",
        "    \"assistant\" : {\n",
        "        \"name\": [],\n",
        "        \"salary\": []\n",
        "    }\n",
        "}\n",
        "\n",
        "\n",
        "\n"
      ],
      "metadata": {
        "id": "9hXgP9AMJhjI"
      },
      "execution_count": 5,
      "outputs": []
    },
    {
      "cell_type": "markdown",
      "metadata": {
        "id": "yZHN4uYLJbzo"
      },
      "source": [
        "## Advanced and Future Topics\n",
        "* Control Flows\n",
        "* Functions and Variable scope\n",
        "* Classes/Objects\n",
        "* Modules and Imports\n",
        "* Packages and Libraries\n",
        "* File I/O\n",
        "* Python for Data Analysis\n",
        "* Python for Data Visualiz ation\n",
        "* Error Handling and Exceptions\n",
        "* List Comprehension\n",
        "* Regular Expressions\n",
        "* Database Access\n",
        "* Multithreading\n",
        "\n",
        "## Resources\n",
        "* CEAS Library Python resources - http://guides.libraries.uc.edu/python\n",
        "* Online links & tutorials\n",
        " * Python documentation - https://www.python.org/doc/\n",
        " * Python Programming wiki book - http://en.wikibooks.org/wiki/Python_Programming\n",
        " * Python tutorials - Udemy, Code academy, etc\n",
        " * For success stories - https://www.python.org/about/success\n"
      ]
    },
    {
      "cell_type": "markdown",
      "metadata": {
        "id": "tuk0KYRIJbzo"
      },
      "source": [
        "## $\\;\\;\\;\\;\\;\\;\\;\\;\\;\\;\\;\\;\\;\\;\\;\\;\\;\\;\\;\\;\\;\\;\\;\\;\\;\\;\\;\\;\\;\\;\\;\\;\\;$Questions ??\n",
        "\n",
        "$\\;\\;\\;\\;\\;\\;\\;\\;\\;\\;\\;\\;\\;\\;\\;\\;\\;\\;\\;\\;\\;\\;\\;\\;\\;\\;\\;\\;\\;\\;\\;\\;\\;\\;\\;\\;\\;\\;\\;\\;\\;\\;\\;\\;\\;\\;\\;\\;\\;\\;\\;\\;\\;\\;\\;\\;\\;\\;$**Thank you for attending the workshop !!**\n",
        "\n",
        "\n",
        "$\\;\\;\\;\\;\\;\\;\\;\\;\\;\\;\\;\\;\\;\\;\\;\\;\\;\\;\\;\\;\\;\\;\\;\\;\\;\\;\\;\\;\\;\\;\\;\\;\\;\\;\\;\\;\\;\\;\\;\\;\\;\\;\\;\\;\\;\\;$**Your kind suggestions/feedbacks are more than welcome**"
      ]
    }
  ],
  "metadata": {
    "kernelspec": {
      "display_name": "Python 3",
      "language": "python",
      "name": "python3"
    },
    "language_info": {
      "codemirror_mode": {
        "name": "ipython",
        "version": 3
      },
      "file_extension": ".py",
      "mimetype": "text/x-python",
      "name": "python",
      "nbconvert_exporter": "python",
      "pygments_lexer": "ipython3",
      "version": "3.7.3"
    },
    "colab": {
      "provenance": []
    }
  },
  "nbformat": 4,
  "nbformat_minor": 0
}